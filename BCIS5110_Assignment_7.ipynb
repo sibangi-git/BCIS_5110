{
  "cells": [
    {
      "cell_type": "markdown",
      "metadata": {
        "id": "1td5345gsgH7"
      },
      "source": [
        "## BCIS 5110 - Assignment 7\n",
        "Q1: 3 points each sub-question. Q2: 9 points"
      ]
    },
    {
      "cell_type": "markdown",
      "metadata": {
        "id": "zZz4LVMTsgIC"
      },
      "source": [
        "### 1. Manipulate arrays\n",
        "The purpose of the assignment is to work with n-dimensional arrays."
      ]
    },
    {
      "cell_type": "code",
      "source": [
        "import numpy as np"
      ],
      "metadata": {
        "id": "8hjY2y35st6q"
      },
      "execution_count": 1,
      "outputs": []
    },
    {
      "cell_type": "markdown",
      "metadata": {
        "id": "c1wA5ER2sgID"
      },
      "source": [
        "1.1 Create a 5X4 array with random integer between 1 and 100. The required arguments of the creation function to do this is np.random.randint(low, high, size). As usual, low is inclusive and high is exclusive."
      ]
    },
    {
      "cell_type": "code",
      "execution_count": 2,
      "metadata": {
        "colab": {
          "base_uri": "https://localhost:8080/"
        },
        "id": "yaQQpsvxsgIF",
        "outputId": "85621587-b886-434e-9b79-a836d3bac10d"
      },
      "outputs": [
        {
          "output_type": "execute_result",
          "data": {
            "text/plain": [
              "array([[20, 75, 14, 94],\n",
              "       [43, 41, 95, 83],\n",
              "       [53, 16, 37, 34],\n",
              "       [ 1,  7, 46, 28],\n",
              "       [41, 14, 23, 53]])"
            ]
          },
          "metadata": {},
          "execution_count": 2
        }
      ],
      "source": [
        "mat = np.random.randint(1, 100, (5, 4))\n",
        "mat"
      ]
    },
    {
      "cell_type": "markdown",
      "metadata": {
        "id": "o7EuFIb3sgIG"
      },
      "source": [
        "1.2 Change the element of second row/third column to 0"
      ]
    },
    {
      "cell_type": "code",
      "execution_count": 3,
      "metadata": {
        "colab": {
          "base_uri": "https://localhost:8080/"
        },
        "id": "YfUIqzrssgIH",
        "outputId": "c1d17c97-351d-4a00-d476-18b0aa084d50"
      },
      "outputs": [
        {
          "output_type": "execute_result",
          "data": {
            "text/plain": [
              "array([[20, 75, 14, 94],\n",
              "       [43, 41,  0, 83],\n",
              "       [53, 16, 37, 34],\n",
              "       [ 1,  7, 46, 28],\n",
              "       [41, 14, 23, 53]])"
            ]
          },
          "metadata": {},
          "execution_count": 3
        }
      ],
      "source": [
        "mat[1, 2] = 0\n",
        "mat"
      ]
    },
    {
      "cell_type": "markdown",
      "metadata": {
        "id": "bmQAUeazsgII"
      },
      "source": [
        "1.3 Create a slice of two rows and three columns (row 2 and 3, column 2-4). Your way of creation should guarantee that changing the slice will not change the original array. Change the element at row 2 and column 2 in the slice to 100. Print the slice before and after change."
      ]
    },
    {
      "cell_type": "code",
      "execution_count": 4,
      "metadata": {
        "colab": {
          "base_uri": "https://localhost:8080/"
        },
        "id": "Rnt_wkx1sgIJ",
        "outputId": "e873e059-7eb2-431a-f481-a213e7b7003d"
      },
      "outputs": [
        {
          "output_type": "execute_result",
          "data": {
            "text/plain": [
              "array([[ 41,   0,  83],\n",
              "       [ 16, 100,  34]])"
            ]
          },
          "metadata": {},
          "execution_count": 4
        }
      ],
      "source": [
        "mat_slice = mat[1:3, 1:4]\n",
        "mat_slice\n",
        "mat_slice[1, 1] = 100\n",
        "mat_slice"
      ]
    },
    {
      "cell_type": "markdown",
      "metadata": {
        "id": "UWr7c6tYsgIK"
      },
      "source": [
        "1.4 Create a two-dimensional array with 5 integers in one row. You can create it your own way. <br>\n",
        "Can this array and the one created in 1.1 be added together?"
      ]
    },
    {
      "cell_type": "code",
      "execution_count": 5,
      "metadata": {
        "colab": {
          "base_uri": "https://localhost:8080/",
          "height": 182
        },
        "id": "kkjCUMdbsgIL",
        "outputId": "739aa27a-5396-4a03-f0df-cf3e538d42e7"
      },
      "outputs": [
        {
          "output_type": "error",
          "ename": "ValueError",
          "evalue": "operands could not be broadcast together with shapes (5,4) (5,) ",
          "traceback": [
            "\u001b[0;31m---------------------------------------------------------------------------\u001b[0m",
            "\u001b[0;31mValueError\u001b[0m                                Traceback (most recent call last)",
            "\u001b[0;32m<ipython-input-5-6c3a0eb69632>\u001b[0m in \u001b[0;36m<cell line: 0>\u001b[0;34m()\u001b[0m\n\u001b[1;32m      1\u001b[0m \u001b[0mmat2\u001b[0m \u001b[0;34m=\u001b[0m \u001b[0mnp\u001b[0m\u001b[0;34m.\u001b[0m\u001b[0marray\u001b[0m\u001b[0;34m(\u001b[0m\u001b[0;34m[\u001b[0m\u001b[0;36m1\u001b[0m\u001b[0;34m,\u001b[0m \u001b[0;36m2\u001b[0m\u001b[0;34m,\u001b[0m \u001b[0;36m3\u001b[0m\u001b[0;34m,\u001b[0m \u001b[0;36m4\u001b[0m\u001b[0;34m,\u001b[0m \u001b[0;36m5\u001b[0m\u001b[0;34m]\u001b[0m\u001b[0;34m)\u001b[0m\u001b[0;34m\u001b[0m\u001b[0;34m\u001b[0m\u001b[0m\n\u001b[1;32m      2\u001b[0m \u001b[0mmat2\u001b[0m\u001b[0;34m\u001b[0m\u001b[0;34m\u001b[0m\u001b[0m\n\u001b[0;32m----> 3\u001b[0;31m \u001b[0mmat\u001b[0m \u001b[0;34m+\u001b[0m \u001b[0mmat2\u001b[0m\u001b[0;34m\u001b[0m\u001b[0;34m\u001b[0m\u001b[0m\n\u001b[0m",
            "\u001b[0;31mValueError\u001b[0m: operands could not be broadcast together with shapes (5,4) (5,) "
          ]
        }
      ],
      "source": [
        "mat2 = np.array([1, 2, 3, 4, 5])\n",
        "mat2\n",
        "mat + mat2 #No it cant be added togather because they are in different shape"
      ]
    },
    {
      "cell_type": "markdown",
      "metadata": {
        "id": "MK6VEuzMsgIL"
      },
      "source": [
        "1.5 Following 1.4, how can we make the two arrays add together?"
      ]
    },
    {
      "cell_type": "code",
      "execution_count": 6,
      "metadata": {
        "colab": {
          "base_uri": "https://localhost:8080/"
        },
        "id": "dMH0TGgvsgIM",
        "outputId": "9d5224ea-f12e-44b9-9005-de43f2a864a2"
      },
      "outputs": [
        {
          "output_type": "execute_result",
          "data": {
            "text/plain": [
              "array([[ 21,  76,  15,  95],\n",
              "       [ 45,  43,   2,  85],\n",
              "       [ 56,  19, 103,  37],\n",
              "       [  5,  11,  50,  32],\n",
              "       [ 46,  19,  28,  58]])"
            ]
          },
          "metadata": {},
          "execution_count": 6
        }
      ],
      "source": [
        "add_mat = mat + mat2.reshape(5, 1) # we can use reshape() to add the array\n",
        "add_mat"
      ]
    },
    {
      "cell_type": "markdown",
      "metadata": {
        "id": "pdlon-7HsgIM"
      },
      "source": [
        "1.6 Multiply the elements (in the 5X4 array created in 1.1) that are divisable by 3 with 2."
      ]
    },
    {
      "cell_type": "code",
      "execution_count": 8,
      "metadata": {
        "colab": {
          "base_uri": "https://localhost:8080/"
        },
        "id": "1mxlhFxGsgIM",
        "outputId": "fc9113dc-15fc-4efe-a808-491d5dba4343"
      },
      "outputs": [
        {
          "output_type": "execute_result",
          "data": {
            "text/plain": [
              "array([[ 20, 150,  14,  94],\n",
              "       [ 43,  41,   0,  83],\n",
              "       [ 53,  16, 100,  34],\n",
              "       [  1,   7,  46,  28],\n",
              "       [ 41,  14,  23,  53]])"
            ]
          },
          "metadata": {},
          "execution_count": 8
        }
      ],
      "source": [
        "mul_mat = np.where(mat % 3 == 0, mat * 2, mat)\n",
        "mul_mat"
      ]
    },
    {
      "cell_type": "markdown",
      "metadata": {
        "id": "SNA3p_7OsgIN"
      },
      "source": [
        "1.7 Calculate the mean and the standard deviation of each column using aggregation functions of the array from 1.1. Use the mean and std to get the standardized value of each element using the formula: (x - mean)/std, where x is the element. Tips: Which axis should we use?"
      ]
    },
    {
      "cell_type": "code",
      "source": [
        "mean_mat = np.mean(mat, axis=0) # axis = 0 represents the operation along the rows, meaning that for each column, the mean and standard deviation will be calculated by considering all the elements within that particular column.\n",
        "mean_mat"
      ],
      "metadata": {
        "colab": {
          "base_uri": "https://localhost:8080/"
        },
        "id": "nomJ_-PlWfjF",
        "outputId": "92cccc17-790c-4aac-b3e2-87a7dbf73723"
      },
      "execution_count": 12,
      "outputs": [
        {
          "output_type": "execute_result",
          "data": {
            "text/plain": [
              "array([31.6, 30.6, 36.6, 58.4])"
            ]
          },
          "metadata": {},
          "execution_count": 12
        }
      ]
    },
    {
      "cell_type": "code",
      "source": [
        "std_mat = np.std(mat, axis=0)\n",
        "std_mat"
      ],
      "metadata": {
        "colab": {
          "base_uri": "https://localhost:8080/"
        },
        "id": "c6D_mhAsWfe0",
        "outputId": "8b718243-5e70-4563-c787-70d9c8cf734a"
      },
      "execution_count": 10,
      "outputs": [
        {
          "output_type": "execute_result",
          "data": {
            "text/plain": [
              "array([18.69331431, 25.00079999, 35.05196143, 26.15798157])"
            ]
          },
          "metadata": {},
          "execution_count": 10
        }
      ]
    },
    {
      "cell_type": "code",
      "execution_count": 7,
      "metadata": {
        "colab": {
          "base_uri": "https://localhost:8080/"
        },
        "id": "pEyfLj5KsgIN",
        "outputId": "1f02b88c-1d4b-4dfd-aeb0-42ebb113075c"
      },
      "outputs": [
        {
          "output_type": "execute_result",
          "data": {
            "text/plain": [
              "array([[-0.62054271,  1.77594317, -0.64475707,  1.36096128],\n",
              "       [ 0.6098437 ,  0.41598669, -1.04416411,  0.94043953],\n",
              "       [ 1.14479432, -0.58398131,  1.80874329, -0.93279368],\n",
              "       [-1.63694888, -0.94396979,  0.2681733 , -1.16216918],\n",
              "       [ 0.50285358, -0.66397875, -0.38799541, -0.20643795]])"
            ]
          },
          "metadata": {},
          "execution_count": 7
        }
      ],
      "source": [
        "stand_mat = (mat - mean_mat) / std_mat\n",
        "stand_mat"
      ]
    },
    {
      "cell_type": "markdown",
      "metadata": {
        "id": "P27BfdaDsgIO"
      },
      "source": [
        "### 2. Write a Python function to implement a simple encryption technique.<br>\n",
        "\n",
        "In this encryption, each letter in the plaintext is replaced by a letter some fixed number of positions down the alphabet. For example, with a left shift of 3, D would be replaced by A, E would become B, and so on. <br>\n",
        "Your function takes two arguments, the original words and the number of steps to shift (Left shift negative and right shift positive).\n",
        "\n",
        "Sample input: 'apple', -3<br>\n",
        "Output with left shift of 3: 'xmmib'\n",
        "\n",
        "You may define the alphabet as a list. Each letter has its position.\n",
        "Left shift of 3 means index - 3 and right shift means index + 3.\n",
        "\n",
        "Tip: How can you make sure the index is between 0-25? Negative index can also be used.\n"
      ]
    },
    {
      "cell_type": "code",
      "source": [
        "def encrypt(word, shift):\n",
        "  alphabet = 'abcdefghijklmnopqrstuvwxyz'\n",
        "  encrypted_word = ''\n",
        "  for letter in word:\n",
        "    if letter in alphabet:\n",
        "      letter_index = alphabet.index(letter)\n",
        "      new_index = (letter_index + shift) % 26\n",
        "      encrypted_word += alphabet[new_index]\n",
        "    else:\n",
        "      encrypted_word += letter\n",
        "  return encrypted_word\n",
        "\n",
        "# Example usage\n",
        "word = 'apple'\n",
        "shift = -3\n",
        "encrypted_word = encrypt(word, shift)\n",
        "print(encrypted_word)  # Output: xmmib"
      ],
      "metadata": {
        "colab": {
          "base_uri": "https://localhost:8080/"
        },
        "id": "DNzzu1RgXv4I",
        "outputId": "f01d2d6b-bb27-4dfa-d554-718a562d4ea4"
      },
      "execution_count": 15,
      "outputs": [
        {
          "output_type": "stream",
          "name": "stdout",
          "text": [
            "xmmib\n"
          ]
        }
      ]
    }
  ],
  "metadata": {
    "kernelspec": {
      "display_name": "Python 3",
      "language": "python",
      "name": "python3"
    },
    "language_info": {
      "codemirror_mode": {
        "name": "ipython",
        "version": 3
      },
      "file_extension": ".py",
      "mimetype": "text/x-python",
      "name": "python",
      "nbconvert_exporter": "python",
      "pygments_lexer": "ipython3",
      "version": "3.8.8"
    },
    "colab": {
      "provenance": []
    }
  },
  "nbformat": 4,
  "nbformat_minor": 0
}