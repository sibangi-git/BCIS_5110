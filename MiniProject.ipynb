{
  "nbformat": 4,
  "nbformat_minor": 0,
  "metadata": {
    "colab": {
      "provenance": []
    },
    "kernelspec": {
      "name": "python3",
      "display_name": "Python 3"
    },
    "language_info": {
      "name": "python"
    }
  },
  "cells": [
    {
      "cell_type": "markdown",
      "source": [
        "## Mini-Project Project_Group_5"
      ],
      "metadata": {
        "id": "QUkEhJfBmP15"
      }
    },
    {
      "cell_type": "code",
      "execution_count": 1,
      "metadata": {
        "colab": {
          "base_uri": "https://localhost:8080/"
        },
        "id": "ccOrVc7-gBs3",
        "outputId": "3234cb1b-a8d6-4ed5-d380-532187332f43"
      },
      "outputs": [
        {
          "output_type": "stream",
          "name": "stdout",
          "text": [
            "How many posts do you want to analyze? 3\n",
            "\n",
            "Post 1:\n",
            "Enter the platform (Instagram, Twitter, Facebook): Instagram\n",
            "Enter the total number of followers: 740\n",
            "Enter the number of likes: 150\n",
            "Enter the number of comments: 3\n",
            "Enter the number of shares: 5\n",
            "The engagement rate for Post 1 on Instagram is: 21.35%\n",
            "\n",
            "Post 2:\n",
            "Enter the platform (Instagram, Twitter, Facebook): instagram\n",
            "Enter the total number of followers: 100\n",
            "Enter the number of likes: 12\n",
            "Enter the number of comments: 14\n",
            "Enter the number of shares: 14\n",
            "The engagement rate for Post 2 on Instagram is: 40.00%\n",
            "\n",
            "Post 3:\n",
            "Enter the platform (Instagram, Twitter, Facebook): instagram\n",
            "Enter the total number of followers: 740\n",
            "Enter the number of likes: 200\n",
            "Enter the number of comments: 10\n",
            "Enter the number of shares: 12\n",
            "The engagement rate for Post 3 on Instagram is: 30.00%\n"
          ]
        }
      ],
      "source": [
        "num_posts = int(input(\"How many posts do you want to analyze? \"))\n",
        "\n",
        "for i in range(1, num_posts + 1):\n",
        "    print(f\"\\nPost {i}:\")\n",
        "\n",
        "    platform = input(\"Enter the platform (Instagram, Twitter, Facebook): \").lower()\n",
        "\n",
        "    followers = int(input(\"Enter the total number of followers: \"))\n",
        "\n",
        "    if platform == \"instagram\":\n",
        "        likes = int(input(\"Enter the number of likes: \"))\n",
        "        comments = int(input(\"Enter the number of comments: \"))\n",
        "        shares = int(input(\"Enter the number of shares: \"))\n",
        "        engagement_rate = (likes + comments + shares) / followers * 100\n",
        "        print(f\"The engagement rate for Post {i} on Instagram is: {engagement_rate:.2f}%\")\n",
        "    elif platform == \"twitter\":\n",
        "        likes = int(input(\"Enter the number of likes: \"))\n",
        "        retweets = int(input(\"Enter the number of retweets: \"))\n",
        "        engagement_rate = (likes + retweets) / followers * 100\n",
        "        print(f\"The engagement rate for Post {i} on Twitter is: {engagement_rate:.2f}%\")\n",
        "    elif platform == \"facebook\":\n",
        "        reactions = int(input(\"Enter the number of reactions: \"))\n",
        "        comments = int(input(\"Enter the number of comments: \"))\n",
        "        shares = int(input(\"Enter the number of shares: \"))\n",
        "        engagement_rate = (reactions + comments + shares) / followers * 100\n",
        "        print(f\"The engagement rate for Post {i} on Facebook is: {engagement_rate:.2f}%\")\n",
        "    else:\n",
        "        print(\"Invalid platform. Please enter Instagram, Twitter, or Facebook.\")"
      ]
    },
    {
      "cell_type": "markdown",
      "source": [
        "### AI Usage Report:\n",
        "\n",
        "**Prompts Used:**\n",
        "\n",
        "1.  How to define a for loop in Python?\n",
        "2.  How to use if, elif, and else statements in Python?\n",
        "3.  Show me common print() syntax examples in Python, including variable insertion and basic formatting?\n",
        "4.  Explain f-strings in Python's print() function. Include variable embedding and formatting examples?\n",
        "5.  How do I format a float to two decimal places in a print statement using f-strings in Python?\n",
        "6.  How do I convert a string to lowercase in python?"
      ],
      "metadata": {
        "id": "2SdRPejfkQGz"
      }
    },
    {
      "cell_type": "markdown",
      "source": [
        "**a.  Python Basics Learned:**\n",
        "\n",
        "This project helped us understand basic Python concepts. We practiced using for loops to go through a list of posts. We learned how to take user input with the input() function and change it to a number using int(). We used if, elif, and else statements to run different code based on the chosen platform. We also worked with basic math operations and used f-strings to format output with a set number of decimal places. Converting input to lowercase made it easier for users to enter text in any case, improving our understanding.\n",
        "\n",
        "**b.  How AI Helped:**\n",
        "\n",
        "AI helped us quickly recall Python syntax, such as for loops, if/elif/else statements, and string formatting. Instead of searching through documentation or tutorials, we could get quick reminders, which sped up our coding process and let us focus more on the program's logic and structure. We also used AI to learn about error handling, though it wasn’t included in the final version. Additionally, AI helped explain error messages, making it easier for us to understand and fix issues."
      ],
      "metadata": {
        "id": "66PrKWmwkXRH"
      }
    },
    {
      "cell_type": "code",
      "source": [],
      "metadata": {
        "id": "bKd9ppvEkfGr"
      },
      "execution_count": null,
      "outputs": []
    }
  ]
}