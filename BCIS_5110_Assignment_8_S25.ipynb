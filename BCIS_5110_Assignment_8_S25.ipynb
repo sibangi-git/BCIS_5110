{
  "cells": [
    {
      "cell_type": "markdown",
      "metadata": {
        "id": "kKZo3ytZ4MMv"
      },
      "source": [
        "<p style=\"font-family: Arial; font-size:3em;color:green; font-style:bold\"><br>\n",
        "BCIS5110 Assignment 8\n",
        "</p><br>"
      ]
    },
    {
      "cell_type": "code",
      "execution_count": 18,
      "metadata": {
        "id": "HI28TykD4MM4"
      },
      "outputs": [],
      "source": [
        "from IPython.core.interactiveshell import InteractiveShell\n",
        "InteractiveShell.ast_node_interactivity = \"all\""
      ]
    },
    {
      "cell_type": "code",
      "execution_count": 19,
      "metadata": {
        "id": "0a9xK12v4jCW"
      },
      "outputs": [],
      "source": [
        "import pandas as pd\n",
        "import numpy as np\n",
        "import matplotlib.pyplot as plt"
      ]
    },
    {
      "cell_type": "markdown",
      "metadata": {
        "id": "5kK6Ghc04MM8"
      },
      "source": [
        "The dataset is about NFL player injuries. Import two data tables: InjuryRecord.csv and PlayList.csv."
      ]
    },
    {
      "cell_type": "code",
      "execution_count": 20,
      "metadata": {
        "id": "8MXfHNxP4MM-"
      },
      "outputs": [],
      "source": [
        "injury = pd.read_csv('/content/InjuryRecord.csv')\n",
        "play = pd.read_csv('/content/PlayList.csv')"
      ]
    },
    {
      "cell_type": "markdown",
      "metadata": {
        "id": "QmL_j6IQ4MM-"
      },
      "source": [
        "1) Check the basic information of the two tables. How many observations for each table?"
      ]
    },
    {
      "cell_type": "code",
      "execution_count": 21,
      "metadata": {
        "colab": {
          "base_uri": "https://localhost:8080/"
        },
        "id": "3CYvFnIZ4MM_",
        "outputId": "3e15797a-4c56-4a29-c4c0-3d94da4c01e0"
      },
      "outputs": [
        {
          "name": "stdout",
          "output_type": "stream",
          "text": [
            "<class 'pandas.core.frame.DataFrame'>\n",
            "RangeIndex: 105 entries, 0 to 104\n",
            "Data columns (total 9 columns):\n",
            " #   Column     Non-Null Count  Dtype \n",
            "---  ------     --------------  ----- \n",
            " 0   PlayerKey  105 non-null    int64 \n",
            " 1   GameID     105 non-null    object\n",
            " 2   PlayKey    77 non-null     object\n",
            " 3   BodyPart   105 non-null    object\n",
            " 4   Surface    105 non-null    object\n",
            " 5   DM_M1      105 non-null    int64 \n",
            " 6   DM_M7      105 non-null    int64 \n",
            " 7   DM_M28     105 non-null    int64 \n",
            " 8   DM_M42     105 non-null    int64 \n",
            "dtypes: int64(5), object(4)\n",
            "memory usage: 7.5+ KB\n",
            "<class 'pandas.core.frame.DataFrame'>\n",
            "RangeIndex: 267005 entries, 0 to 267004\n",
            "Data columns (total 14 columns):\n",
            " #   Column          Non-Null Count   Dtype \n",
            "---  ------          --------------   ----- \n",
            " 0   PlayerKey       267005 non-null  int64 \n",
            " 1   GameID          267005 non-null  object\n",
            " 2   PlayKey         267005 non-null  object\n",
            " 3   RosterPosition  267005 non-null  object\n",
            " 4   PlayerDay       267005 non-null  int64 \n",
            " 5   PlayerGame      267005 non-null  int64 \n",
            " 6   StadiumType     250095 non-null  object\n",
            " 7   FieldType       267005 non-null  object\n",
            " 8   Temperature     267005 non-null  int64 \n",
            " 9   Weather         248314 non-null  object\n",
            " 10  PlayType        266638 non-null  object\n",
            " 11  PlayerGamePlay  267005 non-null  int64 \n",
            " 12  Position        267005 non-null  object\n",
            " 13  PositionGroup   267005 non-null  object\n",
            "dtypes: int64(5), object(9)\n",
            "memory usage: 28.5+ MB\n"
          ]
        }
      ],
      "source": [
        "injury.info()\n",
        "play.info()\n",
        "\n",
        "# injury = 105\n",
        "# play = 267005"
      ]
    },
    {
      "cell_type": "markdown",
      "metadata": {
        "id": "0im6i3Z64MNA"
      },
      "source": [
        "2) How many missing values for each variable?"
      ]
    },
    {
      "cell_type": "code",
      "execution_count": 22,
      "metadata": {
        "colab": {
          "base_uri": "https://localhost:8080/",
          "height": 872
        },
        "id": "X8N79vD54MNB",
        "outputId": "c16ae488-2008-4e7d-f1c3-ed34576430f2"
      },
      "outputs": [
        {
          "data": {
            "text/html": [
              "<div>\n",
              "<style scoped>\n",
              "    .dataframe tbody tr th:only-of-type {\n",
              "        vertical-align: middle;\n",
              "    }\n",
              "\n",
              "    .dataframe tbody tr th {\n",
              "        vertical-align: top;\n",
              "    }\n",
              "\n",
              "    .dataframe thead th {\n",
              "        text-align: right;\n",
              "    }\n",
              "</style>\n",
              "<table border=\"1\" class=\"dataframe\">\n",
              "  <thead>\n",
              "    <tr style=\"text-align: right;\">\n",
              "      <th></th>\n",
              "      <th>0</th>\n",
              "    </tr>\n",
              "  </thead>\n",
              "  <tbody>\n",
              "    <tr>\n",
              "      <th>PlayerKey</th>\n",
              "      <td>0</td>\n",
              "    </tr>\n",
              "    <tr>\n",
              "      <th>GameID</th>\n",
              "      <td>0</td>\n",
              "    </tr>\n",
              "    <tr>\n",
              "      <th>PlayKey</th>\n",
              "      <td>28</td>\n",
              "    </tr>\n",
              "    <tr>\n",
              "      <th>BodyPart</th>\n",
              "      <td>0</td>\n",
              "    </tr>\n",
              "    <tr>\n",
              "      <th>Surface</th>\n",
              "      <td>0</td>\n",
              "    </tr>\n",
              "    <tr>\n",
              "      <th>DM_M1</th>\n",
              "      <td>0</td>\n",
              "    </tr>\n",
              "    <tr>\n",
              "      <th>DM_M7</th>\n",
              "      <td>0</td>\n",
              "    </tr>\n",
              "    <tr>\n",
              "      <th>DM_M28</th>\n",
              "      <td>0</td>\n",
              "    </tr>\n",
              "    <tr>\n",
              "      <th>DM_M42</th>\n",
              "      <td>0</td>\n",
              "    </tr>\n",
              "  </tbody>\n",
              "</table>\n",
              "</div><br><label><b>dtype:</b> int64</label>"
            ],
            "text/plain": [
              "PlayerKey     0\n",
              "GameID        0\n",
              "PlayKey      28\n",
              "BodyPart      0\n",
              "Surface       0\n",
              "DM_M1         0\n",
              "DM_M7         0\n",
              "DM_M28        0\n",
              "DM_M42        0\n",
              "dtype: int64"
            ]
          },
          "execution_count": 22,
          "metadata": {},
          "output_type": "execute_result"
        },
        {
          "data": {
            "text/html": [
              "<div>\n",
              "<style scoped>\n",
              "    .dataframe tbody tr th:only-of-type {\n",
              "        vertical-align: middle;\n",
              "    }\n",
              "\n",
              "    .dataframe tbody tr th {\n",
              "        vertical-align: top;\n",
              "    }\n",
              "\n",
              "    .dataframe thead th {\n",
              "        text-align: right;\n",
              "    }\n",
              "</style>\n",
              "<table border=\"1\" class=\"dataframe\">\n",
              "  <thead>\n",
              "    <tr style=\"text-align: right;\">\n",
              "      <th></th>\n",
              "      <th>0</th>\n",
              "    </tr>\n",
              "  </thead>\n",
              "  <tbody>\n",
              "    <tr>\n",
              "      <th>PlayerKey</th>\n",
              "      <td>0</td>\n",
              "    </tr>\n",
              "    <tr>\n",
              "      <th>GameID</th>\n",
              "      <td>0</td>\n",
              "    </tr>\n",
              "    <tr>\n",
              "      <th>PlayKey</th>\n",
              "      <td>0</td>\n",
              "    </tr>\n",
              "    <tr>\n",
              "      <th>RosterPosition</th>\n",
              "      <td>0</td>\n",
              "    </tr>\n",
              "    <tr>\n",
              "      <th>PlayerDay</th>\n",
              "      <td>0</td>\n",
              "    </tr>\n",
              "    <tr>\n",
              "      <th>PlayerGame</th>\n",
              "      <td>0</td>\n",
              "    </tr>\n",
              "    <tr>\n",
              "      <th>StadiumType</th>\n",
              "      <td>16910</td>\n",
              "    </tr>\n",
              "    <tr>\n",
              "      <th>FieldType</th>\n",
              "      <td>0</td>\n",
              "    </tr>\n",
              "    <tr>\n",
              "      <th>Temperature</th>\n",
              "      <td>0</td>\n",
              "    </tr>\n",
              "    <tr>\n",
              "      <th>Weather</th>\n",
              "      <td>18691</td>\n",
              "    </tr>\n",
              "    <tr>\n",
              "      <th>PlayType</th>\n",
              "      <td>367</td>\n",
              "    </tr>\n",
              "    <tr>\n",
              "      <th>PlayerGamePlay</th>\n",
              "      <td>0</td>\n",
              "    </tr>\n",
              "    <tr>\n",
              "      <th>Position</th>\n",
              "      <td>0</td>\n",
              "    </tr>\n",
              "    <tr>\n",
              "      <th>PositionGroup</th>\n",
              "      <td>0</td>\n",
              "    </tr>\n",
              "  </tbody>\n",
              "</table>\n",
              "</div><br><label><b>dtype:</b> int64</label>"
            ],
            "text/plain": [
              "PlayerKey             0\n",
              "GameID                0\n",
              "PlayKey               0\n",
              "RosterPosition        0\n",
              "PlayerDay             0\n",
              "PlayerGame            0\n",
              "StadiumType       16910\n",
              "FieldType             0\n",
              "Temperature           0\n",
              "Weather           18691\n",
              "PlayType            367\n",
              "PlayerGamePlay        0\n",
              "Position              0\n",
              "PositionGroup         0\n",
              "dtype: int64"
            ]
          },
          "execution_count": 22,
          "metadata": {},
          "output_type": "execute_result"
        }
      ],
      "source": [
        "injury.isnull().sum()\n",
        "play.isnull().sum()"
      ]
    },
    {
      "cell_type": "markdown",
      "metadata": {
        "id": "kBWRDjZ04MNB"
      },
      "source": [
        "3) Drop three variables from PlayList table: 'PlayerDay', 'PlayerGame', 'PlayerGamePlay' and 'StadiumType'."
      ]
    },
    {
      "cell_type": "code",
      "execution_count": 23,
      "metadata": {
        "colab": {
          "base_uri": "https://localhost:8080/",
          "height": 206
        },
        "id": "cAVi0gnp4MNC",
        "outputId": "f90f1afa-9859-4983-efd8-312e0fb40ac3"
      },
      "outputs": [
        {
          "data": {
            "application/vnd.google.colaboratory.intrinsic+json": {
              "type": "dataframe",
              "variable_name": "play"
            },
            "text/html": [
              "\n",
              "  <div id=\"df-70bcd47c-270f-4706-95a6-0190c52eaf97\" class=\"colab-df-container\">\n",
              "    <div>\n",
              "<style scoped>\n",
              "    .dataframe tbody tr th:only-of-type {\n",
              "        vertical-align: middle;\n",
              "    }\n",
              "\n",
              "    .dataframe tbody tr th {\n",
              "        vertical-align: top;\n",
              "    }\n",
              "\n",
              "    .dataframe thead th {\n",
              "        text-align: right;\n",
              "    }\n",
              "</style>\n",
              "<table border=\"1\" class=\"dataframe\">\n",
              "  <thead>\n",
              "    <tr style=\"text-align: right;\">\n",
              "      <th></th>\n",
              "      <th>PlayerKey</th>\n",
              "      <th>GameID</th>\n",
              "      <th>PlayKey</th>\n",
              "      <th>RosterPosition</th>\n",
              "      <th>FieldType</th>\n",
              "      <th>Temperature</th>\n",
              "      <th>Weather</th>\n",
              "      <th>PlayType</th>\n",
              "      <th>Position</th>\n",
              "      <th>PositionGroup</th>\n",
              "    </tr>\n",
              "  </thead>\n",
              "  <tbody>\n",
              "    <tr>\n",
              "      <th>0</th>\n",
              "      <td>26624</td>\n",
              "      <td>26624-1</td>\n",
              "      <td>26624-1-1</td>\n",
              "      <td>Quarterback</td>\n",
              "      <td>Synthetic</td>\n",
              "      <td>63</td>\n",
              "      <td>Clear and warm</td>\n",
              "      <td>Pass</td>\n",
              "      <td>QB</td>\n",
              "      <td>QB</td>\n",
              "    </tr>\n",
              "    <tr>\n",
              "      <th>1</th>\n",
              "      <td>26624</td>\n",
              "      <td>26624-1</td>\n",
              "      <td>26624-1-2</td>\n",
              "      <td>Quarterback</td>\n",
              "      <td>Synthetic</td>\n",
              "      <td>63</td>\n",
              "      <td>Clear and warm</td>\n",
              "      <td>Pass</td>\n",
              "      <td>QB</td>\n",
              "      <td>QB</td>\n",
              "    </tr>\n",
              "    <tr>\n",
              "      <th>2</th>\n",
              "      <td>26624</td>\n",
              "      <td>26624-1</td>\n",
              "      <td>26624-1-3</td>\n",
              "      <td>Quarterback</td>\n",
              "      <td>Synthetic</td>\n",
              "      <td>63</td>\n",
              "      <td>Clear and warm</td>\n",
              "      <td>Rush</td>\n",
              "      <td>QB</td>\n",
              "      <td>QB</td>\n",
              "    </tr>\n",
              "    <tr>\n",
              "      <th>3</th>\n",
              "      <td>26624</td>\n",
              "      <td>26624-1</td>\n",
              "      <td>26624-1-4</td>\n",
              "      <td>Quarterback</td>\n",
              "      <td>Synthetic</td>\n",
              "      <td>63</td>\n",
              "      <td>Clear and warm</td>\n",
              "      <td>Rush</td>\n",
              "      <td>QB</td>\n",
              "      <td>QB</td>\n",
              "    </tr>\n",
              "    <tr>\n",
              "      <th>4</th>\n",
              "      <td>26624</td>\n",
              "      <td>26624-1</td>\n",
              "      <td>26624-1-5</td>\n",
              "      <td>Quarterback</td>\n",
              "      <td>Synthetic</td>\n",
              "      <td>63</td>\n",
              "      <td>Clear and warm</td>\n",
              "      <td>Pass</td>\n",
              "      <td>QB</td>\n",
              "      <td>QB</td>\n",
              "    </tr>\n",
              "  </tbody>\n",
              "</table>\n",
              "</div>\n",
              "    <div class=\"colab-df-buttons\">\n",
              "\n",
              "  <div class=\"colab-df-container\">\n",
              "    <button class=\"colab-df-convert\" onclick=\"convertToInteractive('df-70bcd47c-270f-4706-95a6-0190c52eaf97')\"\n",
              "            title=\"Convert this dataframe to an interactive table.\"\n",
              "            style=\"display:none;\">\n",
              "\n",
              "  <svg xmlns=\"http://www.w3.org/2000/svg\" height=\"24px\" viewBox=\"0 -960 960 960\">\n",
              "    <path d=\"M120-120v-720h720v720H120Zm60-500h600v-160H180v160Zm220 220h160v-160H400v160Zm0 220h160v-160H400v160ZM180-400h160v-160H180v160Zm440 0h160v-160H620v160ZM180-180h160v-160H180v160Zm440 0h160v-160H620v160Z\"/>\n",
              "  </svg>\n",
              "    </button>\n",
              "\n",
              "  <style>\n",
              "    .colab-df-container {\n",
              "      display:flex;\n",
              "      gap: 12px;\n",
              "    }\n",
              "\n",
              "    .colab-df-convert {\n",
              "      background-color: #E8F0FE;\n",
              "      border: none;\n",
              "      border-radius: 50%;\n",
              "      cursor: pointer;\n",
              "      display: none;\n",
              "      fill: #1967D2;\n",
              "      height: 32px;\n",
              "      padding: 0 0 0 0;\n",
              "      width: 32px;\n",
              "    }\n",
              "\n",
              "    .colab-df-convert:hover {\n",
              "      background-color: #E2EBFA;\n",
              "      box-shadow: 0px 1px 2px rgba(60, 64, 67, 0.3), 0px 1px 3px 1px rgba(60, 64, 67, 0.15);\n",
              "      fill: #174EA6;\n",
              "    }\n",
              "\n",
              "    .colab-df-buttons div {\n",
              "      margin-bottom: 4px;\n",
              "    }\n",
              "\n",
              "    [theme=dark] .colab-df-convert {\n",
              "      background-color: #3B4455;\n",
              "      fill: #D2E3FC;\n",
              "    }\n",
              "\n",
              "    [theme=dark] .colab-df-convert:hover {\n",
              "      background-color: #434B5C;\n",
              "      box-shadow: 0px 1px 3px 1px rgba(0, 0, 0, 0.15);\n",
              "      filter: drop-shadow(0px 1px 2px rgba(0, 0, 0, 0.3));\n",
              "      fill: #FFFFFF;\n",
              "    }\n",
              "  </style>\n",
              "\n",
              "    <script>\n",
              "      const buttonEl =\n",
              "        document.querySelector('#df-70bcd47c-270f-4706-95a6-0190c52eaf97 button.colab-df-convert');\n",
              "      buttonEl.style.display =\n",
              "        google.colab.kernel.accessAllowed ? 'block' : 'none';\n",
              "\n",
              "      async function convertToInteractive(key) {\n",
              "        const element = document.querySelector('#df-70bcd47c-270f-4706-95a6-0190c52eaf97');\n",
              "        const dataTable =\n",
              "          await google.colab.kernel.invokeFunction('convertToInteractive',\n",
              "                                                    [key], {});\n",
              "        if (!dataTable) return;\n",
              "\n",
              "        const docLinkHtml = 'Like what you see? Visit the ' +\n",
              "          '<a target=\"_blank\" href=https://colab.research.google.com/notebooks/data_table.ipynb>data table notebook</a>'\n",
              "          + ' to learn more about interactive tables.';\n",
              "        element.innerHTML = '';\n",
              "        dataTable['output_type'] = 'display_data';\n",
              "        await google.colab.output.renderOutput(dataTable, element);\n",
              "        const docLink = document.createElement('div');\n",
              "        docLink.innerHTML = docLinkHtml;\n",
              "        element.appendChild(docLink);\n",
              "      }\n",
              "    </script>\n",
              "  </div>\n",
              "\n",
              "\n",
              "<div id=\"df-9877fecf-bf46-4a9c-8348-77903309885a\">\n",
              "  <button class=\"colab-df-quickchart\" onclick=\"quickchart('df-9877fecf-bf46-4a9c-8348-77903309885a')\"\n",
              "            title=\"Suggest charts\"\n",
              "            style=\"display:none;\">\n",
              "\n",
              "<svg xmlns=\"http://www.w3.org/2000/svg\" height=\"24px\"viewBox=\"0 0 24 24\"\n",
              "     width=\"24px\">\n",
              "    <g>\n",
              "        <path d=\"M19 3H5c-1.1 0-2 .9-2 2v14c0 1.1.9 2 2 2h14c1.1 0 2-.9 2-2V5c0-1.1-.9-2-2-2zM9 17H7v-7h2v7zm4 0h-2V7h2v10zm4 0h-2v-4h2v4z\"/>\n",
              "    </g>\n",
              "</svg>\n",
              "  </button>\n",
              "\n",
              "<style>\n",
              "  .colab-df-quickchart {\n",
              "      --bg-color: #E8F0FE;\n",
              "      --fill-color: #1967D2;\n",
              "      --hover-bg-color: #E2EBFA;\n",
              "      --hover-fill-color: #174EA6;\n",
              "      --disabled-fill-color: #AAA;\n",
              "      --disabled-bg-color: #DDD;\n",
              "  }\n",
              "\n",
              "  [theme=dark] .colab-df-quickchart {\n",
              "      --bg-color: #3B4455;\n",
              "      --fill-color: #D2E3FC;\n",
              "      --hover-bg-color: #434B5C;\n",
              "      --hover-fill-color: #FFFFFF;\n",
              "      --disabled-bg-color: #3B4455;\n",
              "      --disabled-fill-color: #666;\n",
              "  }\n",
              "\n",
              "  .colab-df-quickchart {\n",
              "    background-color: var(--bg-color);\n",
              "    border: none;\n",
              "    border-radius: 50%;\n",
              "    cursor: pointer;\n",
              "    display: none;\n",
              "    fill: var(--fill-color);\n",
              "    height: 32px;\n",
              "    padding: 0;\n",
              "    width: 32px;\n",
              "  }\n",
              "\n",
              "  .colab-df-quickchart:hover {\n",
              "    background-color: var(--hover-bg-color);\n",
              "    box-shadow: 0 1px 2px rgba(60, 64, 67, 0.3), 0 1px 3px 1px rgba(60, 64, 67, 0.15);\n",
              "    fill: var(--button-hover-fill-color);\n",
              "  }\n",
              "\n",
              "  .colab-df-quickchart-complete:disabled,\n",
              "  .colab-df-quickchart-complete:disabled:hover {\n",
              "    background-color: var(--disabled-bg-color);\n",
              "    fill: var(--disabled-fill-color);\n",
              "    box-shadow: none;\n",
              "  }\n",
              "\n",
              "  .colab-df-spinner {\n",
              "    border: 2px solid var(--fill-color);\n",
              "    border-color: transparent;\n",
              "    border-bottom-color: var(--fill-color);\n",
              "    animation:\n",
              "      spin 1s steps(1) infinite;\n",
              "  }\n",
              "\n",
              "  @keyframes spin {\n",
              "    0% {\n",
              "      border-color: transparent;\n",
              "      border-bottom-color: var(--fill-color);\n",
              "      border-left-color: var(--fill-color);\n",
              "    }\n",
              "    20% {\n",
              "      border-color: transparent;\n",
              "      border-left-color: var(--fill-color);\n",
              "      border-top-color: var(--fill-color);\n",
              "    }\n",
              "    30% {\n",
              "      border-color: transparent;\n",
              "      border-left-color: var(--fill-color);\n",
              "      border-top-color: var(--fill-color);\n",
              "      border-right-color: var(--fill-color);\n",
              "    }\n",
              "    40% {\n",
              "      border-color: transparent;\n",
              "      border-right-color: var(--fill-color);\n",
              "      border-top-color: var(--fill-color);\n",
              "    }\n",
              "    60% {\n",
              "      border-color: transparent;\n",
              "      border-right-color: var(--fill-color);\n",
              "    }\n",
              "    80% {\n",
              "      border-color: transparent;\n",
              "      border-right-color: var(--fill-color);\n",
              "      border-bottom-color: var(--fill-color);\n",
              "    }\n",
              "    90% {\n",
              "      border-color: transparent;\n",
              "      border-bottom-color: var(--fill-color);\n",
              "    }\n",
              "  }\n",
              "</style>\n",
              "\n",
              "  <script>\n",
              "    async function quickchart(key) {\n",
              "      const quickchartButtonEl =\n",
              "        document.querySelector('#' + key + ' button');\n",
              "      quickchartButtonEl.disabled = true;  // To prevent multiple clicks.\n",
              "      quickchartButtonEl.classList.add('colab-df-spinner');\n",
              "      try {\n",
              "        const charts = await google.colab.kernel.invokeFunction(\n",
              "            'suggestCharts', [key], {});\n",
              "      } catch (error) {\n",
              "        console.error('Error during call to suggestCharts:', error);\n",
              "      }\n",
              "      quickchartButtonEl.classList.remove('colab-df-spinner');\n",
              "      quickchartButtonEl.classList.add('colab-df-quickchart-complete');\n",
              "    }\n",
              "    (() => {\n",
              "      let quickchartButtonEl =\n",
              "        document.querySelector('#df-9877fecf-bf46-4a9c-8348-77903309885a button');\n",
              "      quickchartButtonEl.style.display =\n",
              "        google.colab.kernel.accessAllowed ? 'block' : 'none';\n",
              "    })();\n",
              "  </script>\n",
              "</div>\n",
              "\n",
              "    </div>\n",
              "  </div>\n"
            ],
            "text/plain": [
              "   PlayerKey   GameID    PlayKey RosterPosition  FieldType  Temperature  \\\n",
              "0      26624  26624-1  26624-1-1    Quarterback  Synthetic           63   \n",
              "1      26624  26624-1  26624-1-2    Quarterback  Synthetic           63   \n",
              "2      26624  26624-1  26624-1-3    Quarterback  Synthetic           63   \n",
              "3      26624  26624-1  26624-1-4    Quarterback  Synthetic           63   \n",
              "4      26624  26624-1  26624-1-5    Quarterback  Synthetic           63   \n",
              "\n",
              "          Weather PlayType Position PositionGroup  \n",
              "0  Clear and warm     Pass       QB            QB  \n",
              "1  Clear and warm     Pass       QB            QB  \n",
              "2  Clear and warm     Rush       QB            QB  \n",
              "3  Clear and warm     Rush       QB            QB  \n",
              "4  Clear and warm     Pass       QB            QB  "
            ]
          },
          "execution_count": 23,
          "metadata": {},
          "output_type": "execute_result"
        }
      ],
      "source": [
        "play = play.drop(['PlayerDay', 'PlayerGame', 'PlayerGamePlay', 'StadiumType'], axis=1)\n",
        "play.head()"
      ]
    },
    {
      "cell_type": "markdown",
      "metadata": {
        "id": "4IHHVYKd4MND"
      },
      "source": [
        "4) a. Check the unique values of 'PositionGroup'. What do you observe? Count the number of records with 'Missing Data'."
      ]
    },
    {
      "cell_type": "code",
      "execution_count": 24,
      "metadata": {
        "colab": {
          "base_uri": "https://localhost:8080/",
          "height": 464
        },
        "id": "RyS-LVsG4MND",
        "outputId": "1cad735e-43a6-4b43-908b-1c59c4966cd5"
      },
      "outputs": [
        {
          "data": {
            "text/plain": [
              "array(['QB', 'Missing Data', 'WR', 'LB', 'RB', 'DL', 'TE', 'DB', 'OL',\n",
              "       'SPEC'], dtype=object)"
            ]
          },
          "execution_count": 24,
          "metadata": {},
          "output_type": "execute_result"
        },
        {
          "data": {
            "text/html": [
              "<div>\n",
              "<style scoped>\n",
              "    .dataframe tbody tr th:only-of-type {\n",
              "        vertical-align: middle;\n",
              "    }\n",
              "\n",
              "    .dataframe tbody tr th {\n",
              "        vertical-align: top;\n",
              "    }\n",
              "\n",
              "    .dataframe thead th {\n",
              "        text-align: right;\n",
              "    }\n",
              "</style>\n",
              "<table border=\"1\" class=\"dataframe\">\n",
              "  <thead>\n",
              "    <tr style=\"text-align: right;\">\n",
              "      <th></th>\n",
              "      <th>count</th>\n",
              "    </tr>\n",
              "    <tr>\n",
              "      <th>PositionGroup</th>\n",
              "      <th></th>\n",
              "    </tr>\n",
              "  </thead>\n",
              "  <tbody>\n",
              "    <tr>\n",
              "      <th>DB</th>\n",
              "      <td>68295</td>\n",
              "    </tr>\n",
              "    <tr>\n",
              "      <th>LB</th>\n",
              "      <td>50954</td>\n",
              "    </tr>\n",
              "    <tr>\n",
              "      <th>OL</th>\n",
              "      <td>47409</td>\n",
              "    </tr>\n",
              "    <tr>\n",
              "      <th>WR</th>\n",
              "      <td>43387</td>\n",
              "    </tr>\n",
              "    <tr>\n",
              "      <th>DL</th>\n",
              "      <td>29830</td>\n",
              "    </tr>\n",
              "    <tr>\n",
              "      <th>RB</th>\n",
              "      <td>11659</td>\n",
              "    </tr>\n",
              "    <tr>\n",
              "      <th>TE</th>\n",
              "      <td>7749</td>\n",
              "    </tr>\n",
              "    <tr>\n",
              "      <th>QB</th>\n",
              "      <td>6969</td>\n",
              "    </tr>\n",
              "    <tr>\n",
              "      <th>SPEC</th>\n",
              "      <td>708</td>\n",
              "    </tr>\n",
              "    <tr>\n",
              "      <th>Missing Data</th>\n",
              "      <td>45</td>\n",
              "    </tr>\n",
              "  </tbody>\n",
              "</table>\n",
              "</div><br><label><b>dtype:</b> int64</label>"
            ],
            "text/plain": [
              "PositionGroup\n",
              "DB              68295\n",
              "LB              50954\n",
              "OL              47409\n",
              "WR              43387\n",
              "DL              29830\n",
              "RB              11659\n",
              "TE               7749\n",
              "QB               6969\n",
              "SPEC              708\n",
              "Missing Data       45\n",
              "Name: count, dtype: int64"
            ]
          },
          "execution_count": 24,
          "metadata": {},
          "output_type": "execute_result"
        }
      ],
      "source": [
        "play['PositionGroup'].unique()\n",
        "play['PositionGroup'].value_counts()\n",
        "\n",
        "# there are 9 unique values.\n",
        "# DB has the highest count.\n",
        "# there are 45 missing data."
      ]
    },
    {
      "cell_type": "markdown",
      "metadata": {
        "id": "y7TH2FCS4MNE"
      },
      "source": [
        "b. We need to replace 'Missing data' with missing value sign. Hint: use .replace(), not str.replace(). Missing value is represented with np.nan. np is Numpy."
      ]
    },
    {
      "cell_type": "code",
      "execution_count": 25,
      "metadata": {
        "id": "yEjMlyS04MNE"
      },
      "outputs": [],
      "source": [
        "play['PositionGroup'] = play['PositionGroup'].replace('Missing Data', np.nan)"
      ]
    },
    {
      "cell_type": "markdown",
      "metadata": {
        "id": "5K2DpLQN4MNF"
      },
      "source": [
        "5) Check the unique values of Temperature. We need to replace -999 with missing value sign too."
      ]
    },
    {
      "cell_type": "code",
      "execution_count": 26,
      "metadata": {
        "colab": {
          "base_uri": "https://localhost:8080/"
        },
        "id": "ZitmkN7j4MNG",
        "outputId": "74f2f76b-8721-4440-ca36-917e049bec88"
      },
      "outputs": [
        {
          "data": {
            "text/plain": [
              "array([  63,   85,   84,   61,   76,   73,   56,   62,   48,   66,   47,\n",
              "         55,   42,   35,   13,   97,   68,   65,   45,   44,   46,   40,\n",
              "         54,   53,   82,   33,   70,   52,   79,   57,   72,   69, -999,\n",
              "         67,   71,   86,   90,   77,   39,   78,   60,   50,   43,   74,\n",
              "         34,   89,   23,   92,   75,   81,   36,   88,   49,   80,   22,\n",
              "         87,   58,   16,   51,   64,   83,   41,   29,   19,   91,   38,\n",
              "         25,   17,   28,   10,   37,   31,   11,   32,    9,   59,   24,\n",
              "         27,   26])"
            ]
          },
          "execution_count": 26,
          "metadata": {},
          "output_type": "execute_result"
        },
        {
          "name": "stdout",
          "output_type": "stream",
          "text": [
            "<class 'pandas.core.series.Series'>\n",
            "RangeIndex: 267005 entries, 0 to 267004\n",
            "Series name: Temperature\n",
            "Non-Null Count   Dtype\n",
            "--------------   -----\n",
            "267005 non-null  int64\n",
            "dtypes: int64(1)\n",
            "memory usage: 2.0 MB\n"
          ]
        }
      ],
      "source": [
        "play['Temperature'].unique()\n",
        "play['Temperature'].info()\n",
        "play['Temperature'] = play['Temperature'].replace(-999, np.nan)"
      ]
    },
    {
      "cell_type": "markdown",
      "metadata": {
        "id": "9X-DEvjL4MNH"
      },
      "source": [
        "6) Check the values of variable 'Weather'. What do you observe? We need to clean it."
      ]
    },
    {
      "cell_type": "code",
      "execution_count": 27,
      "metadata": {
        "colab": {
          "base_uri": "https://localhost:8080/"
        },
        "id": "xolYFaTc4MNI",
        "outputId": "5b6cfc8c-4659-4855-d1af-bbe99656c477"
      },
      "outputs": [
        {
          "data": {
            "text/plain": [
              "array(['Clear and warm', 'Mostly Cloudy', 'Sunny', 'Clear', 'Cloudy',\n",
              "       'Cloudy, fog started developing in 2nd quarter', 'Rain',\n",
              "       'Partly Cloudy', 'Mostly cloudy', 'Cloudy and cold',\n",
              "       'Cloudy and Cool', 'Rain Chance 40%', 'Controlled Climate',\n",
              "       'Sunny and warm', 'Partly cloudy', 'Clear and Cool',\n",
              "       'Clear and cold', 'Sunny and cold', 'Indoor', nan, 'Partly Sunny',\n",
              "       'N/A (Indoors)', 'Mostly Sunny', 'Indoors', 'Clear Skies',\n",
              "       'Partly sunny', 'Showers', 'N/A Indoor', 'Sunny and clear', 'Snow',\n",
              "       'Scattered Showers', 'Party Cloudy', 'Clear skies',\n",
              "       'Rain likely, temps in low 40s.', 'Hazy', 'Partly Clouidy',\n",
              "       'Sunny Skies', 'Overcast', 'Cloudy, 50% change of rain', 'Fair',\n",
              "       'Light Rain', 'Partly clear', 'Mostly Coudy', '10% Chance of Rain',\n",
              "       'Cloudy, chance of rain', 'Heat Index 95',\n",
              "       'Sunny, highs to upper 80s', 'Sun & clouds',\n",
              "       'Heavy lake effect snow', 'Mostly sunny', 'Cloudy, Rain',\n",
              "       'Sunny, Windy', 'Mostly Sunny Skies', 'Rainy',\n",
              "       '30% Chance of Rain', 'Cloudy, light snow accumulating 1-3\"',\n",
              "       'cloudy', 'Clear and Sunny', 'Coudy', 'Clear and sunny',\n",
              "       'Clear to Partly Cloudy',\n",
              "       'Cloudy with periods of rain, thunder possible. Winds shifting to WNW, 10-20 mph.',\n",
              "       'Rain shower', 'Cold'], dtype=object)"
            ]
          },
          "execution_count": 27,
          "metadata": {},
          "output_type": "execute_result"
        },
        {
          "name": "stdout",
          "output_type": "stream",
          "text": [
            "\n",
            "\n",
            "\n",
            "<class 'pandas.core.series.Series'>\n",
            "RangeIndex: 267005 entries, 0 to 267004\n",
            "Series name: Weather\n",
            "Non-Null Count   Dtype \n",
            "--------------   ----- \n",
            "248314 non-null  object\n",
            "dtypes: object(1)\n",
            "memory usage: 2.0+ MB\n"
          ]
        }
      ],
      "source": [
        "play['Weather'].unique()\n",
        "print('\\n\\n')\n",
        "play['Weather'].info()\n",
        "\n",
        "# There are various weather conditions, some with inconsistencies (e.g., multiple spaces, slight variations in wording).\n",
        "# yes, we need to clean it."
      ]
    },
    {
      "cell_type": "markdown",
      "metadata": {
        "id": "Q7KIiV_R4MNI"
      },
      "source": [
        "a. For instance, the condition 'Indoor' has four variations: 'Indoors',  'N/A (Indoors)', 'N/A (Indoor)' and 'Controlled Climate'. They can all be transformed to 'Indoor'."
      ]
    },
    {
      "cell_type": "code",
      "execution_count": 28,
      "metadata": {
        "id": "wsZrhdQ-4MNJ"
      },
      "outputs": [],
      "source": [
        "play['Weather'] = play['Weather'].replace(['Indoor', 'Indoors', 'N/A Indoors', 'N/A Indoor','N/A (Indoors)', 'controlled climate'], 'Indoor')"
      ]
    },
    {
      "cell_type": "markdown",
      "metadata": {
        "id": "LTWJfDIm4MNJ"
      },
      "source": [
        "b. Similarly, 'Cloudy' has different variations, even with spelling mistakes. To simplify, we tranform all values with 'Cloudy' in it (including those with spelling errors), the ones with rain chance, 'Sun & clouds' and 'Cloudy, Rain' to 'Cloudy'. You can just do it in a tedious way."
      ]
    },
    {
      "cell_type": "code",
      "execution_count": 29,
      "metadata": {
        "id": "zl_6chq54MNK"
      },
      "outputs": [],
      "source": [
        "play['Weather'] = play['Weather'].replace(['Sun & clouds',  'Cloudy, Rain', 'Cloudy', 'Overcast','Mostly Cloudy','Coudy','Mostly Coudy','Partly Clouidy',\n",
        "                                           'Mostly cloudy', 'Partly cloudy','Partly Cloudy','Cloudy and cold', 'Clear to Partly Cloudy','Cloudy and Cool',\n",
        "                                           'Cloudy, 50% change of rain', 'Party Cloudy','Cloudy, light snow accumulating 1-3\"','Cloudy, fog started developing in 2nd quarter',\n",
        "                                           'Cloudy, chance of rain', 'cloudy'], 'Cloudy')"
      ]
    },
    {
      "cell_type": "markdown",
      "metadata": {
        "id": "a-nJk9ti4MNK"
      },
      "source": [
        "c. Similarly, any variation with 'Sunny' or 'Clear' in it, transform it to 'Clear'. The value 'Clear to Partly Cloudy' has been transformed to 'Cloudy' in last step. We can leave it that way."
      ]
    },
    {
      "cell_type": "code",
      "execution_count": 30,
      "metadata": {
        "id": "qFSlIljT4MNK"
      },
      "outputs": [],
      "source": [
        "play['Weather'] = play['Weather'].replace(['Sunny','Clear and warm', 'Clear', 'Clear and Sunny', 'Sun','Partly sunny', 'Clear skies', 'Sunny Skies',\n",
        "                                           'Partly clear','Clear and Cool', 'Clear and cold','Sunny and clear','Mostly Sunny Skies', 'Mostly sunny', 'Sunny and cold','Sunny and warm',\n",
        "                                           'Partly Sunny','Sunny, Windy', 'Clear and sunny','Heat Index 95', 'Clear Skies','Sunny, highs to upper 80s', 'Mostly Sunny'], 'Clear')"
      ]
    },
    {
      "cell_type": "markdown",
      "metadata": {
        "id": "Pv4T3Vq24MNK"
      },
      "source": [
        "d. Similarly, 'Rainy', \"Rain shower', 'Light Rain', 'Showers' can all be transformed to 'Rain'."
      ]
    },
    {
      "cell_type": "code",
      "execution_count": 31,
      "metadata": {
        "id": "GDfwABIS4MNL"
      },
      "outputs": [],
      "source": [
        "play['Weather'] = play['Weather'].replace(['Rain', 'Rainy', 'Light Rain', 'showers', 'light drizzle','Showers','Rain shower','Scattered Showers'], 'Rain')"
      ]
    },
    {
      "cell_type": "code",
      "execution_count": 32,
      "metadata": {
        "colab": {
          "base_uri": "https://localhost:8080/",
          "height": 586
        },
        "id": "geq9l81UAY7P",
        "outputId": "f1ad1223-6174-49cd-b666-9bbdbb1f9e84"
      },
      "outputs": [
        {
          "data": {
            "text/html": [
              "<div>\n",
              "<style scoped>\n",
              "    .dataframe tbody tr th:only-of-type {\n",
              "        vertical-align: middle;\n",
              "    }\n",
              "\n",
              "    .dataframe tbody tr th {\n",
              "        vertical-align: top;\n",
              "    }\n",
              "\n",
              "    .dataframe thead th {\n",
              "        text-align: right;\n",
              "    }\n",
              "</style>\n",
              "<table border=\"1\" class=\"dataframe\">\n",
              "  <thead>\n",
              "    <tr style=\"text-align: right;\">\n",
              "      <th></th>\n",
              "      <th>count</th>\n",
              "    </tr>\n",
              "    <tr>\n",
              "      <th>Weather</th>\n",
              "      <th></th>\n",
              "    </tr>\n",
              "  </thead>\n",
              "  <tbody>\n",
              "    <tr>\n",
              "      <th>Cloudy</th>\n",
              "      <td>112758</td>\n",
              "    </tr>\n",
              "    <tr>\n",
              "      <th>Clear</th>\n",
              "      <td>95586</td>\n",
              "    </tr>\n",
              "    <tr>\n",
              "      <th>Indoor</th>\n",
              "      <td>13921</td>\n",
              "    </tr>\n",
              "    <tr>\n",
              "      <th>Rain</th>\n",
              "      <td>12298</td>\n",
              "    </tr>\n",
              "    <tr>\n",
              "      <th>Controlled Climate</th>\n",
              "      <td>6355</td>\n",
              "    </tr>\n",
              "    <tr>\n",
              "      <th>Fair</th>\n",
              "      <td>2218</td>\n",
              "    </tr>\n",
              "    <tr>\n",
              "      <th>Hazy</th>\n",
              "      <td>1043</td>\n",
              "    </tr>\n",
              "    <tr>\n",
              "      <th>Snow</th>\n",
              "      <td>946</td>\n",
              "    </tr>\n",
              "    <tr>\n",
              "      <th>Rain Chance 40%</th>\n",
              "      <td>691</td>\n",
              "    </tr>\n",
              "    <tr>\n",
              "      <th>Rain likely, temps in low 40s.</th>\n",
              "      <td>553</td>\n",
              "    </tr>\n",
              "    <tr>\n",
              "      <th>Cold</th>\n",
              "      <td>549</td>\n",
              "    </tr>\n",
              "    <tr>\n",
              "      <th>10% Chance of Rain</th>\n",
              "      <td>413</td>\n",
              "    </tr>\n",
              "    <tr>\n",
              "      <th>Heavy lake effect snow</th>\n",
              "      <td>383</td>\n",
              "    </tr>\n",
              "    <tr>\n",
              "      <th>30% Chance of Rain</th>\n",
              "      <td>354</td>\n",
              "    </tr>\n",
              "    <tr>\n",
              "      <th>Cloudy with periods of rain, thunder possible. Winds shifting to WNW, 10-20 mph.</th>\n",
              "      <td>246</td>\n",
              "    </tr>\n",
              "  </tbody>\n",
              "</table>\n",
              "</div><br><label><b>dtype:</b> int64</label>"
            ],
            "text/plain": [
              "Weather\n",
              "Cloudy                                                                              112758\n",
              "Clear                                                                                95586\n",
              "Indoor                                                                               13921\n",
              "Rain                                                                                 12298\n",
              "Controlled Climate                                                                    6355\n",
              "Fair                                                                                  2218\n",
              "Hazy                                                                                  1043\n",
              "Snow                                                                                   946\n",
              "Rain Chance 40%                                                                        691\n",
              "Rain likely, temps in low 40s.                                                         553\n",
              "Cold                                                                                   549\n",
              "10% Chance of Rain                                                                     413\n",
              "Heavy lake effect snow                                                                 383\n",
              "30% Chance of Rain                                                                     354\n",
              "Cloudy with periods of rain, thunder possible. Winds shifting to WNW, 10-20 mph.       246\n",
              "Name: count, dtype: int64"
            ]
          },
          "execution_count": 32,
          "metadata": {},
          "output_type": "execute_result"
        }
      ],
      "source": [
        "play['Weather'].value_counts()"
      ]
    },
    {
      "cell_type": "markdown",
      "metadata": {
        "id": "dfN6GMs94MNL"
      },
      "source": [
        "7) Merge the two tables using inner merge on 'PlayerKey', 'GameID', and 'PlayKey'."
      ]
    },
    {
      "cell_type": "code",
      "execution_count": 33,
      "metadata": {
        "colab": {
          "base_uri": "https://localhost:8080/",
          "height": 206
        },
        "id": "rJAXcz964MNL",
        "outputId": "451d90bc-ae96-4bb0-d83b-112d1d875dbe"
      },
      "outputs": [
        {
          "data": {
            "application/vnd.google.colaboratory.intrinsic+json": {
              "summary": "{\n  \"name\": \"main_df\",\n  \"rows\": 77,\n  \"fields\": [\n    {\n      \"column\": \"PlayerKey\",\n      \"properties\": {\n        \"dtype\": \"number\",\n        \"std\": 3931,\n        \"min\": 31070,\n        \"max\": 47813,\n        \"num_unique_values\": 74,\n        \"samples\": [\n          43532,\n          33474,\n          46119\n        ],\n        \"semantic_type\": \"\",\n        \"description\": \"\"\n      }\n    },\n    {\n      \"column\": \"GameID\",\n      \"properties\": {\n        \"dtype\": \"string\",\n        \"num_unique_values\": 76,\n        \"samples\": [\n          \"43532-5\",\n          \"43540-3\",\n          \"46331-4\"\n        ],\n        \"semantic_type\": \"\",\n        \"description\": \"\"\n      }\n    },\n    {\n      \"column\": \"PlayKey\",\n      \"properties\": {\n        \"dtype\": \"string\",\n        \"num_unique_values\": 76,\n        \"samples\": [\n          \"43532-5-69\",\n          \"43540-3-14\",\n          \"46331-4-44\"\n        ],\n        \"semantic_type\": \"\",\n        \"description\": \"\"\n      }\n    },\n    {\n      \"column\": \"BodyPart\",\n      \"properties\": {\n        \"dtype\": \"category\",\n        \"num_unique_values\": 3,\n        \"samples\": [\n          \"Knee\",\n          \"Ankle\",\n          \"Foot\"\n        ],\n        \"semantic_type\": \"\",\n        \"description\": \"\"\n      }\n    },\n    {\n      \"column\": \"Surface\",\n      \"properties\": {\n        \"dtype\": \"category\",\n        \"num_unique_values\": 2,\n        \"samples\": [\n          \"Natural\",\n          \"Synthetic\"\n        ],\n        \"semantic_type\": \"\",\n        \"description\": \"\"\n      }\n    },\n    {\n      \"column\": \"DM_M1\",\n      \"properties\": {\n        \"dtype\": \"number\",\n        \"std\": 0,\n        \"min\": 1,\n        \"max\": 1,\n        \"num_unique_values\": 1,\n        \"samples\": [\n          1\n        ],\n        \"semantic_type\": \"\",\n        \"description\": \"\"\n      }\n    },\n    {\n      \"column\": \"DM_M7\",\n      \"properties\": {\n        \"dtype\": \"number\",\n        \"std\": 0,\n        \"min\": 0,\n        \"max\": 1,\n        \"num_unique_values\": 2,\n        \"samples\": [\n          0\n        ],\n        \"semantic_type\": \"\",\n        \"description\": \"\"\n      }\n    },\n    {\n      \"column\": \"DM_M28\",\n      \"properties\": {\n        \"dtype\": \"number\",\n        \"std\": 0,\n        \"min\": 0,\n        \"max\": 1,\n        \"num_unique_values\": 2,\n        \"samples\": [\n          0\n        ],\n        \"semantic_type\": \"\",\n        \"description\": \"\"\n      }\n    },\n    {\n      \"column\": \"DM_M42\",\n      \"properties\": {\n        \"dtype\": \"number\",\n        \"std\": 0,\n        \"min\": 0,\n        \"max\": 1,\n        \"num_unique_values\": 2,\n        \"samples\": [\n          0\n        ],\n        \"semantic_type\": \"\",\n        \"description\": \"\"\n      }\n    },\n    {\n      \"column\": \"RosterPosition\",\n      \"properties\": {\n        \"dtype\": \"category\",\n        \"num_unique_values\": 8,\n        \"samples\": [\n          \"Safety\"\n        ],\n        \"semantic_type\": \"\",\n        \"description\": \"\"\n      }\n    },\n    {\n      \"column\": \"FieldType\",\n      \"properties\": {\n        \"dtype\": \"category\",\n        \"num_unique_values\": 2,\n        \"samples\": [\n          \"Natural\"\n        ],\n        \"semantic_type\": \"\",\n        \"description\": \"\"\n      }\n    },\n    {\n      \"column\": \"Temperature\",\n      \"properties\": {\n        \"dtype\": \"number\",\n        \"std\": 15.269721321424122,\n        \"min\": 33.0,\n        \"max\": 89.0,\n        \"num_unique_values\": 35,\n        \"samples\": [\n          55.0\n        ],\n        \"semantic_type\": \"\",\n        \"description\": \"\"\n      }\n    },\n    {\n      \"column\": \"Weather\",\n      \"properties\": {\n        \"dtype\": \"category\",\n        \"num_unique_values\": 8,\n        \"samples\": [\n          \"Clear\"\n        ],\n        \"semantic_type\": \"\",\n        \"description\": \"\"\n      }\n    },\n    {\n      \"column\": \"PlayType\",\n      \"properties\": {\n        \"dtype\": \"category\",\n        \"num_unique_values\": 8,\n        \"samples\": [\n          \"Pass\"\n        ],\n        \"semantic_type\": \"\",\n        \"description\": \"\"\n      }\n    },\n    {\n      \"column\": \"Position\",\n      \"properties\": {\n        \"dtype\": \"category\",\n        \"num_unique_values\": 15,\n        \"samples\": [\n          \"DE\"\n        ],\n        \"semantic_type\": \"\",\n        \"description\": \"\"\n      }\n    },\n    {\n      \"column\": \"PositionGroup\",\n      \"properties\": {\n        \"dtype\": \"category\",\n        \"num_unique_values\": 7,\n        \"samples\": [\n          \"LB\"\n        ],\n        \"semantic_type\": \"\",\n        \"description\": \"\"\n      }\n    }\n  ]\n}",
              "type": "dataframe",
              "variable_name": "main_df"
            },
            "text/html": [
              "\n",
              "  <div id=\"df-b89987a2-4a24-4877-b2e0-399947d9e866\" class=\"colab-df-container\">\n",
              "    <div>\n",
              "<style scoped>\n",
              "    .dataframe tbody tr th:only-of-type {\n",
              "        vertical-align: middle;\n",
              "    }\n",
              "\n",
              "    .dataframe tbody tr th {\n",
              "        vertical-align: top;\n",
              "    }\n",
              "\n",
              "    .dataframe thead th {\n",
              "        text-align: right;\n",
              "    }\n",
              "</style>\n",
              "<table border=\"1\" class=\"dataframe\">\n",
              "  <thead>\n",
              "    <tr style=\"text-align: right;\">\n",
              "      <th></th>\n",
              "      <th>PlayerKey</th>\n",
              "      <th>GameID</th>\n",
              "      <th>PlayKey</th>\n",
              "      <th>BodyPart</th>\n",
              "      <th>Surface</th>\n",
              "      <th>DM_M1</th>\n",
              "      <th>DM_M7</th>\n",
              "      <th>DM_M28</th>\n",
              "      <th>DM_M42</th>\n",
              "      <th>RosterPosition</th>\n",
              "      <th>FieldType</th>\n",
              "      <th>Temperature</th>\n",
              "      <th>Weather</th>\n",
              "      <th>PlayType</th>\n",
              "      <th>Position</th>\n",
              "      <th>PositionGroup</th>\n",
              "    </tr>\n",
              "  </thead>\n",
              "  <tbody>\n",
              "    <tr>\n",
              "      <th>0</th>\n",
              "      <td>39873</td>\n",
              "      <td>39873-4</td>\n",
              "      <td>39873-4-32</td>\n",
              "      <td>Knee</td>\n",
              "      <td>Synthetic</td>\n",
              "      <td>1</td>\n",
              "      <td>1</td>\n",
              "      <td>1</td>\n",
              "      <td>1</td>\n",
              "      <td>Linebacker</td>\n",
              "      <td>Synthetic</td>\n",
              "      <td>84.0</td>\n",
              "      <td>Cloudy</td>\n",
              "      <td>Punt</td>\n",
              "      <td>OLB</td>\n",
              "      <td>LB</td>\n",
              "    </tr>\n",
              "    <tr>\n",
              "      <th>1</th>\n",
              "      <td>46074</td>\n",
              "      <td>46074-7</td>\n",
              "      <td>46074-7-26</td>\n",
              "      <td>Knee</td>\n",
              "      <td>Natural</td>\n",
              "      <td>1</td>\n",
              "      <td>1</td>\n",
              "      <td>0</td>\n",
              "      <td>0</td>\n",
              "      <td>Linebacker</td>\n",
              "      <td>Natural</td>\n",
              "      <td>76.0</td>\n",
              "      <td>Cloudy</td>\n",
              "      <td>Punt</td>\n",
              "      <td>OLB</td>\n",
              "      <td>LB</td>\n",
              "    </tr>\n",
              "    <tr>\n",
              "      <th>2</th>\n",
              "      <td>36557</td>\n",
              "      <td>36557-1</td>\n",
              "      <td>36557-1-70</td>\n",
              "      <td>Ankle</td>\n",
              "      <td>Synthetic</td>\n",
              "      <td>1</td>\n",
              "      <td>1</td>\n",
              "      <td>1</td>\n",
              "      <td>1</td>\n",
              "      <td>Safety</td>\n",
              "      <td>Synthetic</td>\n",
              "      <td>63.0</td>\n",
              "      <td>Clear</td>\n",
              "      <td>Pass</td>\n",
              "      <td>SS</td>\n",
              "      <td>DB</td>\n",
              "    </tr>\n",
              "    <tr>\n",
              "      <th>3</th>\n",
              "      <td>46646</td>\n",
              "      <td>46646-3</td>\n",
              "      <td>46646-3-30</td>\n",
              "      <td>Ankle</td>\n",
              "      <td>Natural</td>\n",
              "      <td>1</td>\n",
              "      <td>0</td>\n",
              "      <td>0</td>\n",
              "      <td>0</td>\n",
              "      <td>Linebacker</td>\n",
              "      <td>Natural</td>\n",
              "      <td>80.0</td>\n",
              "      <td>Cloudy</td>\n",
              "      <td>Punt</td>\n",
              "      <td>LB</td>\n",
              "      <td>LB</td>\n",
              "    </tr>\n",
              "    <tr>\n",
              "      <th>4</th>\n",
              "      <td>43532</td>\n",
              "      <td>43532-5</td>\n",
              "      <td>43532-5-69</td>\n",
              "      <td>Ankle</td>\n",
              "      <td>Synthetic</td>\n",
              "      <td>1</td>\n",
              "      <td>1</td>\n",
              "      <td>1</td>\n",
              "      <td>1</td>\n",
              "      <td>Wide Receiver</td>\n",
              "      <td>Synthetic</td>\n",
              "      <td>89.0</td>\n",
              "      <td>Cloudy</td>\n",
              "      <td>Kickoff</td>\n",
              "      <td>WR</td>\n",
              "      <td>WR</td>\n",
              "    </tr>\n",
              "  </tbody>\n",
              "</table>\n",
              "</div>\n",
              "    <div class=\"colab-df-buttons\">\n",
              "\n",
              "  <div class=\"colab-df-container\">\n",
              "    <button class=\"colab-df-convert\" onclick=\"convertToInteractive('df-b89987a2-4a24-4877-b2e0-399947d9e866')\"\n",
              "            title=\"Convert this dataframe to an interactive table.\"\n",
              "            style=\"display:none;\">\n",
              "\n",
              "  <svg xmlns=\"http://www.w3.org/2000/svg\" height=\"24px\" viewBox=\"0 -960 960 960\">\n",
              "    <path d=\"M120-120v-720h720v720H120Zm60-500h600v-160H180v160Zm220 220h160v-160H400v160Zm0 220h160v-160H400v160ZM180-400h160v-160H180v160Zm440 0h160v-160H620v160ZM180-180h160v-160H180v160Zm440 0h160v-160H620v160Z\"/>\n",
              "  </svg>\n",
              "    </button>\n",
              "\n",
              "  <style>\n",
              "    .colab-df-container {\n",
              "      display:flex;\n",
              "      gap: 12px;\n",
              "    }\n",
              "\n",
              "    .colab-df-convert {\n",
              "      background-color: #E8F0FE;\n",
              "      border: none;\n",
              "      border-radius: 50%;\n",
              "      cursor: pointer;\n",
              "      display: none;\n",
              "      fill: #1967D2;\n",
              "      height: 32px;\n",
              "      padding: 0 0 0 0;\n",
              "      width: 32px;\n",
              "    }\n",
              "\n",
              "    .colab-df-convert:hover {\n",
              "      background-color: #E2EBFA;\n",
              "      box-shadow: 0px 1px 2px rgba(60, 64, 67, 0.3), 0px 1px 3px 1px rgba(60, 64, 67, 0.15);\n",
              "      fill: #174EA6;\n",
              "    }\n",
              "\n",
              "    .colab-df-buttons div {\n",
              "      margin-bottom: 4px;\n",
              "    }\n",
              "\n",
              "    [theme=dark] .colab-df-convert {\n",
              "      background-color: #3B4455;\n",
              "      fill: #D2E3FC;\n",
              "    }\n",
              "\n",
              "    [theme=dark] .colab-df-convert:hover {\n",
              "      background-color: #434B5C;\n",
              "      box-shadow: 0px 1px 3px 1px rgba(0, 0, 0, 0.15);\n",
              "      filter: drop-shadow(0px 1px 2px rgba(0, 0, 0, 0.3));\n",
              "      fill: #FFFFFF;\n",
              "    }\n",
              "  </style>\n",
              "\n",
              "    <script>\n",
              "      const buttonEl =\n",
              "        document.querySelector('#df-b89987a2-4a24-4877-b2e0-399947d9e866 button.colab-df-convert');\n",
              "      buttonEl.style.display =\n",
              "        google.colab.kernel.accessAllowed ? 'block' : 'none';\n",
              "\n",
              "      async function convertToInteractive(key) {\n",
              "        const element = document.querySelector('#df-b89987a2-4a24-4877-b2e0-399947d9e866');\n",
              "        const dataTable =\n",
              "          await google.colab.kernel.invokeFunction('convertToInteractive',\n",
              "                                                    [key], {});\n",
              "        if (!dataTable) return;\n",
              "\n",
              "        const docLinkHtml = 'Like what you see? Visit the ' +\n",
              "          '<a target=\"_blank\" href=https://colab.research.google.com/notebooks/data_table.ipynb>data table notebook</a>'\n",
              "          + ' to learn more about interactive tables.';\n",
              "        element.innerHTML = '';\n",
              "        dataTable['output_type'] = 'display_data';\n",
              "        await google.colab.output.renderOutput(dataTable, element);\n",
              "        const docLink = document.createElement('div');\n",
              "        docLink.innerHTML = docLinkHtml;\n",
              "        element.appendChild(docLink);\n",
              "      }\n",
              "    </script>\n",
              "  </div>\n",
              "\n",
              "\n",
              "<div id=\"df-e3c35a22-8029-4cd3-8f71-36c883480079\">\n",
              "  <button class=\"colab-df-quickchart\" onclick=\"quickchart('df-e3c35a22-8029-4cd3-8f71-36c883480079')\"\n",
              "            title=\"Suggest charts\"\n",
              "            style=\"display:none;\">\n",
              "\n",
              "<svg xmlns=\"http://www.w3.org/2000/svg\" height=\"24px\"viewBox=\"0 0 24 24\"\n",
              "     width=\"24px\">\n",
              "    <g>\n",
              "        <path d=\"M19 3H5c-1.1 0-2 .9-2 2v14c0 1.1.9 2 2 2h14c1.1 0 2-.9 2-2V5c0-1.1-.9-2-2-2zM9 17H7v-7h2v7zm4 0h-2V7h2v10zm4 0h-2v-4h2v4z\"/>\n",
              "    </g>\n",
              "</svg>\n",
              "  </button>\n",
              "\n",
              "<style>\n",
              "  .colab-df-quickchart {\n",
              "      --bg-color: #E8F0FE;\n",
              "      --fill-color: #1967D2;\n",
              "      --hover-bg-color: #E2EBFA;\n",
              "      --hover-fill-color: #174EA6;\n",
              "      --disabled-fill-color: #AAA;\n",
              "      --disabled-bg-color: #DDD;\n",
              "  }\n",
              "\n",
              "  [theme=dark] .colab-df-quickchart {\n",
              "      --bg-color: #3B4455;\n",
              "      --fill-color: #D2E3FC;\n",
              "      --hover-bg-color: #434B5C;\n",
              "      --hover-fill-color: #FFFFFF;\n",
              "      --disabled-bg-color: #3B4455;\n",
              "      --disabled-fill-color: #666;\n",
              "  }\n",
              "\n",
              "  .colab-df-quickchart {\n",
              "    background-color: var(--bg-color);\n",
              "    border: none;\n",
              "    border-radius: 50%;\n",
              "    cursor: pointer;\n",
              "    display: none;\n",
              "    fill: var(--fill-color);\n",
              "    height: 32px;\n",
              "    padding: 0;\n",
              "    width: 32px;\n",
              "  }\n",
              "\n",
              "  .colab-df-quickchart:hover {\n",
              "    background-color: var(--hover-bg-color);\n",
              "    box-shadow: 0 1px 2px rgba(60, 64, 67, 0.3), 0 1px 3px 1px rgba(60, 64, 67, 0.15);\n",
              "    fill: var(--button-hover-fill-color);\n",
              "  }\n",
              "\n",
              "  .colab-df-quickchart-complete:disabled,\n",
              "  .colab-df-quickchart-complete:disabled:hover {\n",
              "    background-color: var(--disabled-bg-color);\n",
              "    fill: var(--disabled-fill-color);\n",
              "    box-shadow: none;\n",
              "  }\n",
              "\n",
              "  .colab-df-spinner {\n",
              "    border: 2px solid var(--fill-color);\n",
              "    border-color: transparent;\n",
              "    border-bottom-color: var(--fill-color);\n",
              "    animation:\n",
              "      spin 1s steps(1) infinite;\n",
              "  }\n",
              "\n",
              "  @keyframes spin {\n",
              "    0% {\n",
              "      border-color: transparent;\n",
              "      border-bottom-color: var(--fill-color);\n",
              "      border-left-color: var(--fill-color);\n",
              "    }\n",
              "    20% {\n",
              "      border-color: transparent;\n",
              "      border-left-color: var(--fill-color);\n",
              "      border-top-color: var(--fill-color);\n",
              "    }\n",
              "    30% {\n",
              "      border-color: transparent;\n",
              "      border-left-color: var(--fill-color);\n",
              "      border-top-color: var(--fill-color);\n",
              "      border-right-color: var(--fill-color);\n",
              "    }\n",
              "    40% {\n",
              "      border-color: transparent;\n",
              "      border-right-color: var(--fill-color);\n",
              "      border-top-color: var(--fill-color);\n",
              "    }\n",
              "    60% {\n",
              "      border-color: transparent;\n",
              "      border-right-color: var(--fill-color);\n",
              "    }\n",
              "    80% {\n",
              "      border-color: transparent;\n",
              "      border-right-color: var(--fill-color);\n",
              "      border-bottom-color: var(--fill-color);\n",
              "    }\n",
              "    90% {\n",
              "      border-color: transparent;\n",
              "      border-bottom-color: var(--fill-color);\n",
              "    }\n",
              "  }\n",
              "</style>\n",
              "\n",
              "  <script>\n",
              "    async function quickchart(key) {\n",
              "      const quickchartButtonEl =\n",
              "        document.querySelector('#' + key + ' button');\n",
              "      quickchartButtonEl.disabled = true;  // To prevent multiple clicks.\n",
              "      quickchartButtonEl.classList.add('colab-df-spinner');\n",
              "      try {\n",
              "        const charts = await google.colab.kernel.invokeFunction(\n",
              "            'suggestCharts', [key], {});\n",
              "      } catch (error) {\n",
              "        console.error('Error during call to suggestCharts:', error);\n",
              "      }\n",
              "      quickchartButtonEl.classList.remove('colab-df-spinner');\n",
              "      quickchartButtonEl.classList.add('colab-df-quickchart-complete');\n",
              "    }\n",
              "    (() => {\n",
              "      let quickchartButtonEl =\n",
              "        document.querySelector('#df-e3c35a22-8029-4cd3-8f71-36c883480079 button');\n",
              "      quickchartButtonEl.style.display =\n",
              "        google.colab.kernel.accessAllowed ? 'block' : 'none';\n",
              "    })();\n",
              "  </script>\n",
              "</div>\n",
              "\n",
              "    </div>\n",
              "  </div>\n"
            ],
            "text/plain": [
              "   PlayerKey   GameID     PlayKey BodyPart    Surface  DM_M1  DM_M7  DM_M28  \\\n",
              "0      39873  39873-4  39873-4-32     Knee  Synthetic      1      1       1   \n",
              "1      46074  46074-7  46074-7-26     Knee    Natural      1      1       0   \n",
              "2      36557  36557-1  36557-1-70    Ankle  Synthetic      1      1       1   \n",
              "3      46646  46646-3  46646-3-30    Ankle    Natural      1      0       0   \n",
              "4      43532  43532-5  43532-5-69    Ankle  Synthetic      1      1       1   \n",
              "\n",
              "   DM_M42 RosterPosition  FieldType  Temperature Weather PlayType Position  \\\n",
              "0       1     Linebacker  Synthetic         84.0  Cloudy     Punt      OLB   \n",
              "1       0     Linebacker    Natural         76.0  Cloudy     Punt      OLB   \n",
              "2       1         Safety  Synthetic         63.0   Clear     Pass       SS   \n",
              "3       0     Linebacker    Natural         80.0  Cloudy     Punt       LB   \n",
              "4       1  Wide Receiver  Synthetic         89.0  Cloudy  Kickoff       WR   \n",
              "\n",
              "  PositionGroup  \n",
              "0            LB  \n",
              "1            LB  \n",
              "2            DB  \n",
              "3            LB  \n",
              "4            WR  "
            ]
          },
          "execution_count": 33,
          "metadata": {},
          "output_type": "execute_result"
        }
      ],
      "source": [
        "main_df = pd.merge(injury, play, on=['PlayerKey', 'GameID', 'PlayKey'], how='inner')\n",
        "main_df.head()"
      ]
    },
    {
      "cell_type": "markdown",
      "metadata": {
        "id": "VWiVzVhR4MNM"
      },
      "source": [
        "8) Using the merged table, make a bar chart to show the number of injuries in each BodyPart."
      ]
    },
    {
      "cell_type": "code",
      "execution_count": 34,
      "metadata": {
        "colab": {
          "base_uri": "https://localhost:8080/",
          "height": 729
        },
        "id": "yGAhJ-vVBMgb",
        "outputId": "71dfd1c7-7b15-4ad0-8882-de99ffe638e8"
      },
      "outputs": [
        {
          "data": {
            "text/plain": [
              "<Figure size 1000x600 with 0 Axes>"
            ]
          },
          "execution_count": 34,
          "metadata": {},
          "output_type": "execute_result"
        },
        {
          "data": {
            "text/plain": [
              "<Axes: xlabel='BodyPart'>"
            ]
          },
          "execution_count": 34,
          "metadata": {},
          "output_type": "execute_result"
        },
        {
          "data": {
            "text/plain": [
              "Text(0.5, 1.0, 'Number of Injuries per Body Part')"
            ]
          },
          "execution_count": 34,
          "metadata": {},
          "output_type": "execute_result"
        },
        {
          "data": {
            "text/plain": [
              "Text(0.5, 0, 'Body Part')"
            ]
          },
          "execution_count": 34,
          "metadata": {},
          "output_type": "execute_result"
        },
        {
          "data": {
            "text/plain": [
              "Text(0, 0.5, 'Number of Injuries')"
            ]
          },
          "execution_count": 34,
          "metadata": {},
          "output_type": "execute_result"
        },
        {
          "data": {
            "text/plain": [
              "(array([0, 1, 2]),\n",
              " [Text(0, 0, 'Knee'), Text(1, 0, 'Ankle'), Text(2, 0, 'Foot')])"
            ]
          },
          "execution_count": 34,
          "metadata": {},
          "output_type": "execute_result"
        },
        {
          "data": {
            "image/png": "[encoded data removed]",
            "text/plain": [
              "<Figure size 1000x600 with 1 Axes>"
            ]
          },
          "metadata": {},
          "output_type": "display_data"
        }
      ],
      "source": [
        "bodypart_counts = main_df['BodyPart'].value_counts()\n",
        "plt.figure(figsize=(10, 6))\n",
        "bodypart_counts.plot(kind='bar')\n",
        "plt.title('Number of Injuries per Body Part')\n",
        "plt.xlabel('Body Part')\n",
        "plt.ylabel('Number of Injuries')\n",
        "plt.xticks(rotation=45, ha='right')\n",
        "plt.tight_layout()\n",
        "plt.show()"
      ]
    }
  ],
  "metadata": {
    "colab": {
      "provenance": []
    },
    "kernelspec": {
      "display_name": "Python 3",
      "language": "python",
      "name": "python3"
    },
    "language_info": {
      "codemirror_mode": {
        "name": "ipython",
        "version": 3
      },
      "file_extension": ".py",
      "mimetype": "text/x-python",
      "name": "python",
      "nbconvert_exporter": "python",
      "pygments_lexer": "ipython3",
      "version": "3.8.8"
    }
  },
  "nbformat": 4,
  "nbformat_minor": 0
}
