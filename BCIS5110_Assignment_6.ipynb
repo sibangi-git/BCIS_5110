{
  "cells": [
    {
      "cell_type": "markdown",
      "metadata": {
        "id": "D5w0nq7-L5yq"
      },
      "source": [
        "## BCIS5110 - Assignment 6\n",
        "5 points for Q1 and Q2 each. 10 points for Q3 and Q4 each."
      ]
    },
    {
      "cell_type": "markdown",
      "metadata": {
        "id": "KwAEPihhL5yt"
      },
      "source": [
        "1. We download many webpages. Webpages are written in HTML language, which uses tags to define webpage format. For example, a simple HTML page may look like this:<br>\n",
        "\\<title\\> Our first HTML page\\</title\\><br>\n",
        "\\<p\\>Hello world\\</p\\><br>\n",
        "\\<p\\>Today is a good day.\\</p\\><br>\n",
        "\\<p\\>Tomorrow may be too.\\</p\\><br>\n",
        "<br>\n",
        "Tags are marked with a set of <...>. In one project, we need to remove the tags before we process the text. <br>\n",
        "Please use regular expression to remove the tags. Do not forget to import the re module. HINT: Follow our example of sub() method. Replace with empty string."
      ]
    },
    {
      "cell_type": "code",
      "source": [
        "import re\n",
        "htmlText = '<title>Our first HTML page</title> <p>Hello world</p>'\n",
        "result = ' '.join(re.findall(r'>([^<>]+)<', htmlText))\n",
        "print(result)"
      ],
      "metadata": {
        "colab": {
          "base_uri": "https://localhost:8080/"
        },
        "id": "x6xA82zaNOYN",
        "outputId": "5507e33d-58e0-4215-f05f-58bdb215901d"
      },
      "execution_count": 6,
      "outputs": [
        {
          "output_type": "stream",
          "name": "stdout",
          "text": [
            "Our first HTML page   Hello world\n"
          ]
        }
      ]
    },
    {
      "cell_type": "markdown",
      "metadata": {
        "id": "2k1Od2yWL5yw"
      },
      "source": [
        "2. Recent research in Finance intends to process large amount of text from SEC reports, meeting records, and social media. Extracting information about earnings per share from text is one of the focal tasks. <br>\n",
        "They may be mentioned in different terms, such as 'earnings are 0.36', 'earnings per share 1.5', 'earnings this year 0.75'. Use regular expression to extract the earnings numbers only. You do not need to evaluate whether the numbers are earnings related or not."
      ]
    },
    {
      "cell_type": "code",
      "execution_count": 11,
      "metadata": {
        "colab": {
          "base_uri": "https://localhost:8080/"
        },
        "id": "rzmHrdCcL5yx",
        "outputId": "c3bca0aa-2b46-41ad-9a8c-cc07f8790aca"
      },
      "outputs": [
        {
          "output_type": "stream",
          "name": "stdout",
          "text": [
            "['1.5', '1.25', '1.0']\n"
          ]
        }
      ],
      "source": [
        "earningsText = 'We are cautiously positive for next year. With earnings per share of 1.5,\\\n",
        "we beat analysts\\' forcast of earnings 1.25. Our competitors hold an average earnings of 1.0.'\n",
        "result = re.findall(r'\\d+\\.\\d*', earningsText)\n",
        "print(result)\n",
        "# The output: [1.5, 1.25, 1.0]"
      ]
    },
    {
      "cell_type": "markdown",
      "metadata": {
        "id": "n12_roAsL5yx"
      },
      "source": [
        "3. In data preparation, sometimes we need to transform variables in certain ways. For instance, there is a binary variable that indicates whether a customer has made contacts before. Because of the data collection process, the value of the variable may be 'Yes', 'yes', 'y', 'Y' or 'No', 'no', 'N', 'n'. Write a program to transform all yes-related values into 1 and no-related value into 0.<br>\n",
        "    Input: a list of values, such as ['Yes', 'yes', 'y', 'Y', 'No', 'no', 'N', 'n', 'Yes', 'n'] <br>\n",
        "    Output: [1, 1, 1, 1, 0, 0, 0, 0, 1, 0] <br>"
      ]
    },
    {
      "cell_type": "code",
      "execution_count": 12,
      "metadata": {
        "colab": {
          "base_uri": "https://localhost:8080/"
        },
        "id": "xFaJIaT4L5yy",
        "outputId": "d0e92620-7fd3-49ec-abc7-bc22d69de93a"
      },
      "outputs": [
        {
          "output_type": "stream",
          "name": "stdout",
          "text": [
            "[1, 1, 1, 1, 0, 0, 0, 0, 1, 0]\n"
          ]
        }
      ],
      "source": [
        "input_list = ['Yes', 'yes', 'y', 'Y', 'No', 'no', 'N', 'n', 'Yes', 'n']\n",
        "output_list = []\n",
        "for item in input_list:\n",
        "    if item.lower() in ['yes', 'y']:\n",
        "        output_list.append(1)\n",
        "    elif item.lower() in ['no', 'n']:\n",
        "        output_list.append(0)\n",
        "print(output_list)"
      ]
    },
    {
      "cell_type": "markdown",
      "metadata": {
        "id": "Q5rRyvKlL5yy"
      },
      "source": [
        "### 4. Write a program to generate urls of university websites <br>\n",
        "1. We have a list of universities: University of North Texas, University of Texas Arlington, Massachusetts Institue of Technologies.<br>\n",
        "2. Their URLs are similar: Taking the initials of the words in the name and combine together to get the middle part of the URL: UNT, UTA, MIT. Adding \"http://www.\" and \".edu\", we get the full URL, e.g., \"http://www.unt.edu\".<br>\n",
        "3. First, we iterate the university list to process the name of each university.<br>\n",
        "4. For each university name, we need to slice the first letter of each word (except \"of\") in its name and concatenate them together into a string. (HINT: we can turn each university name into a list of words. Then we iterate each word, slice the first letter and concatenate them together.)<br>\n",
        "5. Once we get the initial string for each university, the full URL is to concatenate it with \"http://www.\" and \".edu\".<br>"
      ]
    },
    {
      "cell_type": "code",
      "execution_count": 15,
      "metadata": {
        "colab": {
          "base_uri": "https://localhost:8080/"
        },
        "id": "Nl0Io2doL5yz",
        "outputId": "c2ecf1dd-8305-481d-e647-a00d68a05d52"
      },
      "outputs": [
        {
          "output_type": "stream",
          "name": "stdout",
          "text": [
            "['http://www.unt.edu', 'http://www.uta.edu', 'http://www.mit.edu']\n"
          ]
        }
      ],
      "source": [
        "universities = ['University of North Texas', 'University of Texas Arlington', 'Massachusetts Institue of Technologies']\n",
        "result = []\n",
        "for university in universities:\n",
        "    words = university.split()\n",
        "    url = ''\n",
        "    for i in words:\n",
        "        if i.lower() != 'of':\n",
        "            url += i[0]\n",
        "    url = 'http://www.' + url.lower() + '.edu'\n",
        "    result.append(url)\n",
        "print(result)\n",
        "\n",
        "# The output:\n",
        "# ['http://www.unt.edu','http://www.uta.edu','http://www.mit.edu']"
      ]
    }
  ],
  "metadata": {
    "kernelspec": {
      "display_name": "Python 3",
      "language": "python",
      "name": "python3"
    },
    "language_info": {
      "codemirror_mode": {
        "name": "ipython",
        "version": 3
      },
      "file_extension": ".py",
      "mimetype": "text/x-python",
      "name": "python",
      "nbconvert_exporter": "python",
      "pygments_lexer": "ipython3",
      "version": "3.8.8"
    },
    "colab": {
      "provenance": []
    }
  },
  "nbformat": 4,
  "nbformat_minor": 0
}