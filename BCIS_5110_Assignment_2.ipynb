{
  "cells": [
    {
      "cell_type": "markdown",
      "metadata": {
        "id": "Pbkvrx5UD96y"
      },
      "source": [
        "### BCIS 5110 - Assignment 2\n",
        "For each numbered question except Question 4, you need to write Python code to answer. Three points for each question."
      ]
    },
    {
      "cell_type": "markdown",
      "metadata": {
        "id": "xlJubjXgD960"
      },
      "source": [
        "1. Ask the user to input a number; <br>\n",
        "Use the number as the radius to calculate the area of circle. Use 3.14 as pi.<br>\n",
        "Print the result as \"The area of circle is ...\" using string concatenation."
      ]
    },
    {
      "cell_type": "code",
      "execution_count": 20,
      "metadata": {
        "colab": {
          "base_uri": "https://localhost:8080/"
        },
        "id": "uAE-SkN-D961",
        "outputId": "1e2a1343-c5a4-4f6e-de5f-a481bb0584a9"
      },
      "outputs": [
        {
          "output_type": "stream",
          "name": "stdout",
          "text": [
            "Enter the radius:4\n",
            "The area of circle is 50.24\n"
          ]
        }
      ],
      "source": [
        "r=int(input(\"Enter the radius:\"))\n",
        "area=3.14*r*r\n",
        "print(\"The area of circle is \"+str(area))"
      ]
    },
    {
      "cell_type": "markdown",
      "metadata": {
        "id": "GeCggjYJD961"
      },
      "source": [
        "2. Print a string, e.g.'Hello, Mars!' five times. Each time starts a new line."
      ]
    },
    {
      "cell_type": "code",
      "execution_count": 2,
      "metadata": {
        "scrolled": true,
        "colab": {
          "base_uri": "https://localhost:8080/"
        },
        "id": "k0dWo2tBD962",
        "outputId": "88b589c6-50a8-499f-9924-eb659f38dbfb"
      },
      "outputs": [
        {
          "output_type": "stream",
          "name": "stdout",
          "text": [
            "Hello, Mars!\n",
            "Hello, Mars!\n",
            "Hello, Mars!\n",
            "Hello, Mars!\n",
            "Hello, Mars!\n"
          ]
        }
      ],
      "source": [
        "for i in range(5):\n",
        "    print('Hello, Mars!')"
      ]
    },
    {
      "cell_type": "markdown",
      "metadata": {
        "id": "lHRo9SPOD962"
      },
      "source": [
        "3. Create a list of numbers. Count the frequency of each number. Generate a graph to show the frequencies. For instance,\n",
        "\n",
        "input: [60, 70, 80, 80, 90,100, 80,90,70]<br>\n",
        "\n",
        "Output:<br>\n",
        "60  * <br>\n",
        "70  ** <br>\n",
        "80  *** <br>\n",
        "90  ** <br>\n",
        "100 * <br>"
      ]
    },
    {
      "cell_type": "code",
      "execution_count": 4,
      "metadata": {
        "colab": {
          "base_uri": "https://localhost:8080/"
        },
        "id": "L2wHXCXED963",
        "outputId": "07ee8896-b98d-4932-8044-395a9136e6f7"
      },
      "outputs": [
        {
          "output_type": "stream",
          "name": "stdout",
          "text": [
            "60 *\n",
            "70 **\n",
            "80 ***\n",
            "90 **\n",
            "100 *\n"
          ]
        }
      ],
      "source": [
        "def freq_graph(numbers):\n",
        "    frequency = {}\n",
        "    for num in numbers:\n",
        "      if num in frequency:\n",
        "          frequency[num] += 1\n",
        "      else:\n",
        "          frequency[num] = 1\n",
        "\n",
        "    for num, count in frequency.items():\n",
        "      print(f\"{num} {'*' * count}\")\n",
        "\n",
        "numbers = [60, 70, 80, 80, 90, 100, 80, 90, 70]\n",
        "freq_graph(numbers)"
      ]
    },
    {
      "cell_type": "markdown",
      "metadata": {
        "id": "Zve6RQPrD963"
      },
      "source": [
        "4. What do the following expressions evaluate to? Write the answers next to the expression in the cell without running code.\n",
        "\n",
        "e.g. (5 > 4) and (3 == 5) --> False<br>\n",
        "\n",
        "not (5 > 4) <br>\n",
        "(5 > 4) or (3 == 5) <br>\n",
        "not ((5 > 4) or (3 == 5)) <br>\n",
        "(True and True) and (True == False) <br>\n",
        "(not False) or (not True) <br>"
      ]
    },
    {
      "cell_type": "markdown",
      "metadata": {
        "id": "zeqIU2hkD963"
      },
      "source": [
        "### Magic-8 Ball\n",
        "Magic-8 ball is a toy. <br>\n",
        "Usually, you ask a question, turn it over and the answer reveals.<br>\n",
        "For instance, you may ask 'Will I win the lottery?' and the answer you may get is 'Don't count on it.' or 'It is certain.' <br>\n",
        "Now we want to write a program to do what the Magic-8 ball does."
      ]
    },
    {
      "cell_type": "code",
      "execution_count": 7,
      "metadata": {
        "id": "cKShRcAiD964"
      },
      "outputs": [],
      "source": [
        "# First, we define a list that contains all possible answers.\n",
        "responseList = [\"It is certain\", \"It is decidedly so\", \"Without a doubt\", \"Yes, definitely\", \"You may rely on it\",\n",
        "                \"As I see it, yes\", \"Most likely\", \"Outlook good\", \"Yes\", \"Signs point to yes\", \"Reply hazy try again\",\n",
        "                \"Ask again later\", \"Better not tell you now\", \"Cannot predict now\", \"Concentrate and ask again\",\n",
        "                \"Don't count on it\", \"My reply is no\", \"My sources say no\", \"Outlook not so good\", \"Very doubtful\"]"
      ]
    },
    {
      "cell_type": "markdown",
      "metadata": {
        "id": "2G8aHuiKD964"
      },
      "source": [
        "5. How many items in this list? We have learned a function to do that."
      ]
    },
    {
      "cell_type": "code",
      "execution_count": 8,
      "metadata": {
        "colab": {
          "base_uri": "https://localhost:8080/"
        },
        "id": "g8w9tM7ND965",
        "outputId": "432f6eac-c031-49c7-e889-82a25b98d6ce"
      },
      "outputs": [
        {
          "output_type": "execute_result",
          "data": {
            "text/plain": [
              "20"
            ]
          },
          "metadata": {},
          "execution_count": 8
        }
      ],
      "source": [
        "len(responseList)"
      ]
    },
    {
      "cell_type": "markdown",
      "metadata": {
        "id": "AGOiAiGMD965"
      },
      "source": [
        "6. Print the second to the eighth answers (including 2nd and 8th)."
      ]
    },
    {
      "cell_type": "code",
      "execution_count": 9,
      "metadata": {
        "colab": {
          "base_uri": "https://localhost:8080/"
        },
        "id": "qwAtijF2D965",
        "outputId": "00c9f4de-cad6-4d1e-ed8a-a7d32d4c8d80"
      },
      "outputs": [
        {
          "output_type": "execute_result",
          "data": {
            "text/plain": [
              "['It is decidedly so',\n",
              " 'Without a doubt',\n",
              " 'Yes, definitely',\n",
              " 'You may rely on it',\n",
              " 'As I see it, yes',\n",
              " 'Most likely',\n",
              " 'Outlook good']"
            ]
          },
          "metadata": {},
          "execution_count": 9
        }
      ],
      "source": [
        "responseList[1:8]"
      ]
    },
    {
      "cell_type": "markdown",
      "metadata": {
        "id": "XBu-8ptaD965"
      },
      "source": [
        "7. Print the second answer of every other two answers, i.e. ['It is decidely so', 'Yes, definitely', 'As I see it, yes' ...]"
      ]
    },
    {
      "cell_type": "code",
      "execution_count": 10,
      "metadata": {
        "scrolled": true,
        "colab": {
          "base_uri": "https://localhost:8080/"
        },
        "id": "sGNtOkInD965",
        "outputId": "12717f32-1764-4474-b6ee-5fd3af830b17"
      },
      "outputs": [
        {
          "output_type": "execute_result",
          "data": {
            "text/plain": [
              "['It is decidedly so',\n",
              " 'Yes, definitely',\n",
              " 'As I see it, yes',\n",
              " 'Outlook good',\n",
              " 'Signs point to yes',\n",
              " 'Ask again later',\n",
              " 'Cannot predict now',\n",
              " \"Don't count on it\",\n",
              " 'My sources say no',\n",
              " 'Very doubtful']"
            ]
          },
          "metadata": {},
          "execution_count": 10
        }
      ],
      "source": [
        "responseList[1::2]"
      ]
    },
    {
      "cell_type": "markdown",
      "metadata": {
        "id": "UG3t-gDPD966"
      },
      "source": [
        "8. Ask the user to input a question and assign the input to a variable (recall how we do this in our first program). Run the code and enter a question."
      ]
    },
    {
      "cell_type": "code",
      "execution_count": 11,
      "metadata": {
        "colab": {
          "base_uri": "https://localhost:8080/"
        },
        "id": "uRFKcGNhD966",
        "outputId": "e7acb2d9-768d-4e95-9132-b136403e5ec6"
      },
      "outputs": [
        {
          "name": "stdout",
          "output_type": "stream",
          "text": [
            "Ask the Magic-8 Ball a yes/no question: Will I get an A on my test?\n"
          ]
        }
      ],
      "source": [
        "question = input(\"Ask the Magic-8 Ball a yes/no question: \")"
      ]
    },
    {
      "cell_type": "markdown",
      "metadata": {
        "id": "FQ0TcsCMD966"
      },
      "source": [
        "9. How to give the user an answer? You may think to randomly pick an answer from the list. Or, we can select the answer based on the question in a way. <br><br>\n",
        "We have the question variable from last step. It is a string. We need to get the total number of characters (the length) in the question, the same way we get the length of a list, using len() function. Assign the length to a variable. <br>"
      ]
    },
    {
      "cell_type": "code",
      "execution_count": 15,
      "metadata": {
        "colab": {
          "base_uri": "https://localhost:8080/"
        },
        "id": "uUROTp0kD966",
        "outputId": "fa45501a-779d-458c-8697-0b4ad71d19a5"
      },
      "outputs": [
        {
          "output_type": "execute_result",
          "data": {
            "text/plain": [
              "27"
            ]
          },
          "metadata": {},
          "execution_count": 15
        }
      ],
      "source": [
        "question_length=len(question)\n",
        "question_length"
      ]
    },
    {
      "cell_type": "markdown",
      "metadata": {
        "id": "-UvMvxvlD966"
      },
      "source": [
        "10. Using the length from last step, we can create a number that can be used as the index to pick items from the responseList. <br>\n",
        "Index number needs to be within the range of the list length. For instance, if there are 5 items in the list, the index number should be between 0 and 4. If the index is out of 0~4 range, errors occur. <br>\n",
        "As the length of the question can be any number, we need to find a way to keep the index number within range. <br>\n",
        "A simple way to do that is to divide it by the length of the list, and the remainder will always be between 0 and length-1. <br>\n",
        "Write the code to get the index number and print the answer using the index to pick from the responseList.\n",
        "You've got your Magic-8 ball!"
      ]
    },
    {
      "cell_type": "code",
      "execution_count": 19,
      "metadata": {
        "colab": {
          "base_uri": "https://localhost:8080/"
        },
        "id": "wU2F3W-GD966",
        "outputId": "28da9dd9-eae6-4c4e-f987-46a38a2ff552"
      },
      "outputs": [
        {
          "output_type": "stream",
          "name": "stdout",
          "text": [
            "Magic-8 Ball says:Outlook good\n"
          ]
        }
      ],
      "source": [
        "index = question_length % len(responseList)\n",
        "answer = responseList[index]\n",
        "print(f\"Magic-8 Ball says:\"+answer)"
      ]
    },
    {
      "cell_type": "code",
      "source": [],
      "metadata": {
        "id": "ym6drboZIn-O"
      },
      "execution_count": null,
      "outputs": []
    }
  ],
  "metadata": {
    "kernelspec": {
      "display_name": "Python 3",
      "language": "python",
      "name": "python3"
    },
    "language_info": {
      "codemirror_mode": {
        "name": "ipython",
        "version": 3
      },
      "file_extension": ".py",
      "mimetype": "text/x-python",
      "name": "python",
      "nbconvert_exporter": "python",
      "pygments_lexer": "ipython3",
      "version": "3.8.8"
    },
    "colab": {
      "provenance": []
    }
  },
  "nbformat": 4,
  "nbformat_minor": 0
}