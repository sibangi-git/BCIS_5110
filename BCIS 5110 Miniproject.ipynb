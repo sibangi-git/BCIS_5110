{
 "cells": [
  {
   "cell_type": "markdown",
   "id": "0fec1ca6",
   "metadata": {},
   "source": [
    "# BCIS 5110 Mini Project - 01"
   ]
  },
  {
   "cell_type": "code",
   "execution_count": 6,
   "id": "7c0f3d9d",
   "metadata": {},
   "outputs": [
    {
     "name": "stdout",
     "output_type": "stream",
     "text": [
      "How many posts do you want to analyze? 1\n",
      "Post  1\n",
      "Enter the social media platform to analyze Twitter\n",
      "Enter the number of followers : 28\n",
      "Enter the number of likes : 24\n",
      "Enter the number of retweets : 5\n",
      "The user engagement rate for post 1 on twitter is 103.57%\n"
     ]
    }
   ],
   "source": [
    "# To analyze the user engagement for a social media post for the platforms like Facebook, Instagarm, Twitter\n",
    "\n",
    "# Knowing the number of posts to analyze\n",
    "\n",
    "total_posts = int(input(\"How many posts do you want to analyze? \"))\n",
    "\n",
    "for num in range(1, total_posts + 1):\n",
    "    print(\"Post \",num )\n",
    "    platform = input(\"Enter the social media platform to analyze \")\n",
    "    \n",
    "    if platform == 'Instagram':\n",
    "        Total_followers = int(input('Enter the number of followers : '))\n",
    "        likes = int(input('Enter the number of likes : '))\n",
    "        comments = int(input('Enter the number of comments : '))\n",
    "        shares = int(input('Enter the number of shares : '))\n",
    "        Engagement_Rate = ((likes + comments + shares)/Total_followers) * 100\n",
    "        print(f\"The user engagement rate for post {num} on instagram is {Engagement_Rate:.2f}%\")\n",
    "    elif platform == 'Twitter':\n",
    "        Total_followers = int(input('Enter the number of followers : '))\n",
    "        likes = int(input('Enter the number of likes : '))\n",
    "        retweets = int(input('Enter the number of retweets : '))\n",
    "        Engagement_Rate = ((likes + retweets)/Total_followers) * 100\n",
    "        print(f\"The user engagement rate for post {num} on twitter is {Engagement_Rate:.2f}%\")\n",
    "    elif platform == 'Facebook':\n",
    "        Total_followers = int(input('Enter the number of followers : '))\n",
    "        reactions = int(input('Enter the number of reactions : '))\n",
    "        comments = int(input('Enter the number of comments : '))\n",
    "        shares = int(input('Enter the number of shares : '))\n",
    "        Engagement_Rate = ((reactions + comments + shares)/Total_followers) * 100\n",
    "        print(f\"The user engagement rate for post {num} on facebook is {Engagement_Rate:.2f}%\")\n",
    "    else:\n",
    "        print(\"Choose between Instagram, Facebook and Twitter\")\n",
    "\n"
   ]
  }
 ],
 "metadata": {
  "kernelspec": {
   "display_name": "Python 3 (ipykernel)",
   "language": "python",
   "name": "python3"
  },
  "language_info": {
   "codemirror_mode": {
    "name": "ipython",
    "version": 3
   },
   "file_extension": ".py",
   "mimetype": "text/x-python",
   "name": "python",
   "nbconvert_exporter": "python",
   "pygments_lexer": "ipython3",
   "version": "3.11.5"
  }
 },
 "nbformat": 4,
 "nbformat_minor": 5
}
