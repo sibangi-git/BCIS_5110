{
  "cells": [
    {
      "cell_type": "markdown",
      "metadata": {
        "id": "A0MZVyXKvJUb"
      },
      "source": [
        "## BCIS5110 - Assignment 5\n",
        "Q1: 10 points; Q2: 10 points. Q3: 10 points"
      ]
    },
    {
      "cell_type": "markdown",
      "metadata": {
        "id": "_ZqOYDTcvJUe"
      },
      "source": [
        "1. Recall the program we write for Q3, Assignment 4. Now we make a small improvement.<br>\n",
        "    1) Take the part of the code that checks for digits and define it as a function. If it is all-digit, the function returns True. If not, the function returns False.<br>\n",
        "    2) Use the function to rewrite the program by calling it in your code."
      ]
    },
    {
      "cell_type": "code",
      "execution_count": 4,
      "metadata": {
        "colab": {
          "base_uri": "https://localhost:8080/"
        },
        "id": "i2KOjIbmvJUf",
        "outputId": "bc418147-7db6-4f76-c72c-ed17f495a429"
      },
      "outputs": [
        {
          "output_type": "stream",
          "name": "stdout",
          "text": [
            "Enter a sequence of comma-separated numbers (e.g., 4,6,7,454,78): 2,r,3,7,g\n",
            "Invalid input. \n",
            "Please enter only digits separated by commas.\n",
            "Enter a sequence of comma-separated numbers (e.g., 4,6,7,454,78): 1,5,6,24,6\n",
            "The sum of the numbers is: 42\n"
          ]
        }
      ],
      "source": [
        "def is_all_digits(input_string):\n",
        "    for char in input_string:\n",
        "        if not char.isdigit():\n",
        "            return False\n",
        "    return True\n",
        "\n",
        "def sum_comma_separated_numbers():\n",
        "    while True:\n",
        "        user_input = input(\"Enter a sequence of comma-separated numbers (e.g., 4,6,7,454,78): \")\n",
        "        numbers_str = user_input.split(',')\n",
        "\n",
        "        valid_input = True\n",
        "        for num_str in numbers_str:\n",
        "            if not is_all_digits(num_str):\n",
        "                print(\"Invalid input. \\nPlease enter only digits separated by commas.\")\n",
        "                valid_input = False\n",
        "                break\n",
        "\n",
        "        if valid_input:\n",
        "            numbers = []\n",
        "            for num_str in numbers_str:\n",
        "                numbers.append(int(num_str))\n",
        "            total = 0\n",
        "            for num in numbers:\n",
        "                total += num\n",
        "            return total\n",
        "\n",
        "total = sum_comma_separated_numbers()\n",
        "print(\"The sum of the numbers is:\", total)"
      ]
    },
    {
      "cell_type": "markdown",
      "metadata": {
        "id": "0EmXp_MlvJUf"
      },
      "source": [
        "2. In data preparation, sometimes we need to transform variables. For instance, software size is measured in kilobytes or megabytes, e.g., 120K or 1.2M. Assume we have such a variable “size” using this convention. <br>\n",
        "It will be recognized as a string because of the K or M at the end. As it is in essence a numerical variable, our program needs to recode it. For instance, 120K should be 120000 after the transformation. <br>\n",
        "<br>\n",
        "Write a function that transforms the input string (e.g., 120K or 20M) to the corresponding numerical value (e.g., 120000) and return it. <br>\n",
        "Hint: A string method .endswith() can help you to determine whether it is K or M. The function returns True if a string ends with the specified suffix. For example, '120k'.endswith('K') will return True. Think about how to remove the K or M before you tranform it.\n"
      ]
    },
    {
      "cell_type": "code",
      "source": [
        "def transform_size(size_str):\n",
        "    if size_str.endswith('K'):\n",
        "        numerical_value = float(size_str[:-1]) * 1000\n",
        "        return int(numerical_value)\n",
        "\n",
        "    elif size_str.endswith('M'):\n",
        "        numerical_value = float(size_str[:-1]) * 1000000\n",
        "        return int(numerical_value)\n",
        "\n",
        "size_str = input(\"Enter the size: \").upper()\n",
        "transformed_size = transform_size(size_str)\n",
        "print(\"Transformed size:\", transformed_size)"
      ],
      "metadata": {
        "colab": {
          "base_uri": "https://localhost:8080/"
        },
        "id": "vqVOxt8-PXKJ",
        "outputId": "9bb50fa0-7ad1-439e-8143-26a4150d38db"
      },
      "execution_count": null,
      "outputs": [
        {
          "output_type": "stream",
          "name": "stdout",
          "text": [
            "Enter the size: 50K\n",
            "Transformed size: 50000\n"
          ]
        }
      ]
    },
    {
      "cell_type": "markdown",
      "metadata": {
        "id": "wTvXCW0HvJUq"
      },
      "source": [
        "3. Write a function that searches any sequence object to find a match for a given item (You may choose your own sequence, a string, a list, or a tuple, all work.) For instance, find whether a list contains a match for the string \"apple\". <br>\n",
        "\n",
        "The function takes two arguments: a sequence object and the target item, and return two values: a boolean value whether there is match and if there is, the index of the matched item. For instance,<br>\n",
        "\n",
        "input: 'apple' - sequence, 'a' - target<br>\n",
        "output: True, 0\n",
        "\n",
        "Note: We do not need to consider algorithm efficiency."
      ]
    },
    {
      "cell_type": "code",
      "execution_count": null,
      "metadata": {
        "colab": {
          "base_uri": "https://localhost:8080/"
        },
        "id": "kAcGun5wvJUq",
        "outputId": "3f20d7eb-d913-469b-b732-5e403ad04e9a"
      },
      "outputs": [
        {
          "output_type": "stream",
          "name": "stdout",
          "text": [
            "enter the sequence: APPLE\n",
            "enter the target: A\n",
            "(True, 0)\n"
          ]
        }
      ],
      "source": [
        "def match_sequence(seq, target):\n",
        "    for i in range(len(seq)):\n",
        "        if seq[i] == target:\n",
        "            return True, i\n",
        "    return False, None\n",
        "\n",
        "seq = input(\"enter the sequence: \").lower()\n",
        "target = input(\"enter the target: \").lower()\n",
        "print(match_sequence(seq, target))"
      ]
    }
  ],
  "metadata": {
    "kernelspec": {
      "display_name": "Python 3",
      "language": "python",
      "name": "python3"
    },
    "language_info": {
      "codemirror_mode": {
        "name": "ipython",
        "version": 3
      },
      "file_extension": ".py",
      "mimetype": "text/x-python",
      "name": "python",
      "nbconvert_exporter": "python",
      "pygments_lexer": "ipython3",
      "version": "3.8.8"
    },
    "colab": {
      "provenance": []
    }
  },
  "nbformat": 4,
  "nbformat_minor": 0
}