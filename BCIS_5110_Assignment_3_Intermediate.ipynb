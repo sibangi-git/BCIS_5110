{
 "cells": [
  {
   "cell_type": "markdown",
   "id": "5caddfc0",
   "metadata": {
    "id": "5caddfc0"
   },
   "source": [
    "### BCIS 5110 - Assignment 3 - Intermediate\n",
    "Write programs to answer the following questions. 10 points each."
   ]
  },
  {
   "cell_type": "markdown",
   "id": "560ecab7",
   "metadata": {
    "id": "560ecab7"
   },
   "source": [
    "1. In this exercise, we'll develop a simple control system for a nuclear reactor.\n",
    "\n",
    "For a reactor to produce the power it must be in a state of criticality. If the reactor is in a state less than criticality, it can become damaged. If the reactor state goes beyond criticality, it can overload and result in a meltdown. We want to mitigate the chances of meltdown and correctly manage reactor state.\n",
    "\n",
    "The following three tasks are all related to writing code for maintaining ideal reactor state."
   ]
  },
  {
   "cell_type": "markdown",
   "id": "7fff4585",
   "metadata": {
    "id": "7fff4585"
   },
   "source": [
    "1). Check for criticality<br>\n",
    "The first thing a control system has to do is check if the reactor is balanced in criticality. A reactor is said to be critical if it satisfies the following conditions:<br>\n",
    "\n",
    "The temperature is less than 800 K.<br>\n",
    "The number of neutrons emitted per second is greater than 500.<br>\n",
    "The product of temperature and neutrons emitted per second is less than 500000.<br>\n",
    "<br>\n",
    "Implement the function is_criticality_balanced() that takes temperature measured in kelvin and neutrons_emitted as parameters, and returns True if the criticality conditions are met, False if not."
   ]
  },
  {
   "cell_type": "code",
   "execution_count": 1,
   "id": "0ba924ff",
   "metadata": {
    "colab": {
     "base_uri": "https://localhost:8080/"
    },
    "id": "0ba924ff",
    "outputId": "d55cdaf1-1f6a-4c0c-a321-b4d2514f1e46"
   },
   "outputs": [
    {
     "name": "stdin",
     "output_type": "stream",
     "text": [
      "Enter temperature:  500\n",
      "Enter neutrons emitted:  10000\n"
     ]
    },
    {
     "data": {
      "text/plain": [
       "False"
      ]
     },
     "execution_count": 1,
     "metadata": {},
     "output_type": "execute_result"
    }
   ],
   "source": [
    "def is_criticality_balanced(temperature, neutrons_emitted):\n",
    "    if temperature < 800 and neutrons_emitted > 500 and temperature*neutrons_emitted < 500000:\n",
    "        return True\n",
    "        \n",
    "    return False\n",
    "\n",
    "temperature = int(input(\"Enter temperature: \"))\n",
    "neutrons_emitted = int(input(\"Enter neutrons emitted: \"))\n",
    "is_criticality_balanced(temperature, neutrons_emitted)"
   ]
  },
  {
   "cell_type": "markdown",
   "id": "2f0e98e0",
   "metadata": {
    "id": "2f0e98e0"
   },
   "source": [
    "2). 2. Determine the Power output range<br>\n",
    "Once the reactor has started producing power its efficiency needs to be determined. Efficiency can be grouped into 4 bands:<br>\n",
    "\n",
    "green -> efficiency of 80% or more,<br>\n",
    "orange -> efficiency of less than 80% but at least 60%,<br>\n",
    "red -> efficiency below 60%, but still 30% or more,<br>\n",
    "black -> less than 30% efficient.<br>\n",
    "The percentage value can be calculated as (generated_power/theoretical_max_power)*100 where generated_power = voltage * current. Note that the percentage value is usually not an integer number, so make sure to consider the proper use of the < and <= comparisons.<br>\n",
    "<br>\n",
    "Implement the function reactor_efficiency(<voltage>, <current>, <theoretical_max_power>), with three parameters: voltage, current, and theoretical_max_power. This function should return the efficiency band of the reactor : 'green', 'orange', 'red', or 'black'."
   ]
  },
  {
   "cell_type": "code",
   "execution_count": 4,
   "id": "b5R8r9PqtePi",
   "metadata": {
    "colab": {
     "base_uri": "https://localhost:8080/",
     "height": 87
    },
    "id": "b5R8r9PqtePi",
    "outputId": "71ae4a18-8411-4c03-b320-872d7a75b737"
   },
   "outputs": [
    {
     "name": "stdout",
     "output_type": "stream",
     "text": [
      "Enter voltage: 50\n",
      "Enter current: 300\n",
      "Enter theoretical max power: 400\n"
     ]
    },
    {
     "data": {
      "application/vnd.google.colaboratory.intrinsic+json": {
       "type": "string"
      },
      "text/plain": [
       "'green'"
      ]
     },
     "execution_count": 4,
     "metadata": {},
     "output_type": "execute_result"
    }
   ],
   "source": [
    "def reactor_efficiency(voltage, current, theoretical_max_power):\n",
    "    generated_power = voltage * current\n",
    "    percentage = (generated_power/theoretical_max_power)*100\n",
    "\n",
    "    if percentage >= 80:\n",
    "        return 'green'\n",
    "    elif percentage < 80 and percentage >= 60:\n",
    "        return 'orange'\n",
    "    elif percentage < 60 and percentage >= 30:\n",
    "        return 'red'\n",
    "    elif:\n",
    "        return 'black'\n",
    "\n",
    "voltage = int(input(\"Enter voltage: \"))\n",
    "current = int(input(\"Enter current: \"))\n",
    "theoretical_max_power = int(input(\"Enter theoretical max power: \"))\n",
    "reactor_efficiency(voltage, current, theoretical_max_power)"
   ]
  },
  {
   "cell_type": "markdown",
   "id": "bd62ec51",
   "metadata": {
    "id": "bd62ec51"
   },
   "source": [
    "3). Fail Safe Mechanism<br>\n",
    "Your final task involves creating a fail-safe mechanism to avoid overload and meltdown. This mechanism will determine if the reactor is below, at, or above the ideal criticality threshold. Criticality can then be increased, decreased, or stopped by inserting (or removing) control rods into the reactor.<br>\n",
    "\n",
    "Implement the function called fail_safe(), which takes 3 parameters: temperature measured in kelvin, neutrons_produced_per_second, and threshold, and outputs a status code for the reactor.<br>\n",
    "\n",
    "If temperature * neutrons_produced_per_second < 90% of threshold, output a status code of 'LOW' indicating that control rods must be removed to produce power.<br>\n",
    "\n",
    "If the value temperature * neutrons_produced_per_second is within 10% of the threshold (so either 0-10% less than the threshold, at the threshold, or 0-10% greater than the threshold), the reactor is in criticality and the status code of 'NORMAL' should be output, indicating that the reactor is in optimum condition and control rods are in an ideal position.<br>\n",
    "\n",
    "If temperature * neutrons_produced_per_second is not in the above-stated ranges, the reactor is going into meltdown and a status code of 'DANGER' must be passed to immediately shut down the reactor.<br>"
   ]
  },
  {
   "cell_type": "code",
   "execution_count": 5,
   "id": "18a21bda",
   "metadata": {
    "colab": {
     "base_uri": "https://localhost:8080/",
     "height": 87
    },
    "id": "18a21bda",
    "outputId": "fe0e3a9e-db56-43b4-dd03-dca70e0c77a7"
   },
   "outputs": [
    {
     "name": "stdout",
     "output_type": "stream",
     "text": [
      "Enter temperature: 80\n",
      "Enter neutrons produced per second: 1000\n",
      "Enter threshold: 500\n"
     ]
    },
    {
     "data": {
      "application/vnd.google.colaboratory.intrinsic+json": {
       "type": "string"
      },
      "text/plain": [
       "'DANGER'"
      ]
     },
     "execution_count": 5,
     "metadata": {},
     "output_type": "execute_result"
    }
   ],
   "source": [
    "def fail_safe(temperature, neutrons_produced_per_second, threshold):\n",
    "    value = temperature * neutrons_produced_per_second\n",
    "\n",
    "    if value < 0.9 * threshold:\n",
    "        return 'LOW'\n",
    "    elif 0.9 * threshold <= value <= 1.1 * threshold:\n",
    "        return 'NORMAL'\n",
    "    else:\n",
    "        return 'DANGER'\n",
    "\n",
    "temperature = int(input(\"Enter temperature: \"))\n",
    "neutrons_produced_per_second = int(input(\"Enter neutrons produced per second: \"))\n",
    "threshold = int(input(\"Enter threshold: \"))\n",
    "fail_safe(temperature, neutrons_produced_per_second, threshold)"
   ]
  },
  {
   "cell_type": "code",
   "execution_count": null,
   "id": "Fc2QPr9Aw_o4",
   "metadata": {
    "id": "Fc2QPr9Aw_o4"
   },
   "outputs": [],
   "source": []
  }
 ],
 "metadata": {
  "colab": {
   "provenance": []
  },
  "kernelspec": {
   "display_name": "Python 3 (ipykernel)",
   "language": "python",
   "name": "python3"
  },
  "language_info": {
   "codemirror_mode": {
    "name": "ipython",
    "version": 3
   },
   "file_extension": ".py",
   "mimetype": "text/x-python",
   "name": "python",
   "nbconvert_exporter": "python",
   "pygments_lexer": "ipython3",
   "version": "3.12.3"
  }
 },
 "nbformat": 4,
 "nbformat_minor": 5
}
