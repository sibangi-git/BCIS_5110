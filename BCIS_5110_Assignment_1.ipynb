{
  "cells": [
    {
      "cell_type": "markdown",
      "metadata": {
        "id": "fUWWc4flOHF8"
      },
      "source": [
        "# BCIS 5110 Assignment 1"
      ]
    },
    {
      "cell_type": "markdown",
      "metadata": {
        "id": "M61UjBIwOHGI"
      },
      "source": [
        "### Business analytics case analysis\n",
        "Reflect on Verizon's customer churning problem we discussed in class. Could you identify a problem that can be helped with large amount of data?\n",
        "\n",
        "You can think about problems within a company. It might be related to customers, employees, or products, etc. We may want to find risky customers by predicting their chance of leaving. Identifying employees who are likely to quit is important for customer retention. Finding which product features predict high rating helps with new product development.\n",
        "Or you can think outside of a specific organization. For instance, housing prices skyrocketd this year. Can we predict housing prices? Hospitals are overwhelmed. How to better manage hospital beds? If we could predict the risk of a patient getting readmitted and identify risk factors, we may have customized strategies for patient management.\n",
        "\n",
        "You need to identify a problem that is related to predicting certain outcome.\n",
        "\n",
        "There is no standard or \"correct\" answer to these questions. You will get full points if: <br>\n",
        "The problem is relevant. <br>\n",
        "The prediction outcome is clear. <br>\n",
        "The data description shows efforts by including a variety of data. <br>\n",
        "The exploration questions are relevant and can be answered with statistics. <br>"
      ]
    },
    {
      "cell_type": "markdown",
      "metadata": {
        "id": "utaX7yEsOHGM"
      },
      "source": [
        "##### Double click on \"Answer\" below the questions to activate the cell. Type in your answers. After you are done, press \"Ctrl\" + \"Enter\" to run the cell."
      ]
    },
    {
      "cell_type": "markdown",
      "metadata": {
        "id": "Y5V6fdwnOHGN"
      },
      "source": [
        "#### 1. Describe the problem in no more than three sentences. (5 points)\n"
      ]
    },
    {
      "cell_type": "markdown",
      "metadata": {
        "id": "WN6A_lvGOHGP"
      },
      "source": [
        "Answer: <br>\n",
        "Housing prices vary significantly based on location, property features, and market trends. Accurately predicting home prices can help real estate agents comprehend market dynamics, sellers price their properties, and buyers make well-informed decisions. By analyzing historical real estate data, we aim to identify the key factors influencing house prices and develop a model for price prediction."
      ]
    },
    {
      "cell_type": "markdown",
      "metadata": {
        "id": "bAMRgwNZOHGR"
      },
      "source": [
        "#### 2. Describe the data you might need to make a reasonable prediction. (5 points)\n",
        "Recall our discussion about the data sources for the Verizon case. Assume that we do not have limitations on how we can get the data."
      ]
    },
    {
      "cell_type": "markdown",
      "metadata": {
        "id": "t4VPIPE2OHGT"
      },
      "source": [
        "Answer: <br>\n",
        "1. Property features: square footage, number of bedrooms and bathrooms, age of the property, lot size, type of property (single-family, condo, etc.).\n",
        "2. Location details: address, neighborhood, school district rating, crime rate, proximity to amenities (schools, hospitals, parks, public transport).\n",
        "3. Market data: recent sale prices of similar homes, time on the market, and overall market trends.\n",
        "4. Economic factors: interest rates, property taxes, and economic indicators (e.g., employment rates in the area).\n",
        "5. Condition of the property: renovation history, energy efficiency, and structural quality.\n"
      ]
    },
    {
      "cell_type": "markdown",
      "metadata": {
        "id": "pc9r8WQCOHGV"
      },
      "source": [
        "#### 3. During data exploration, we use statistics and graphs to tell the stories about the data. (5 points)\n",
        "We can answer questions like: what is the average number of downloads for an App in Google Play Store? Who is the best salesman in the Northeast region? How does the price change over the years? How is housing price changing over time?\n",
        "Ask three such explorative questions about your data."
      ]
    },
    {
      "cell_type": "markdown",
      "metadata": {
        "id": "1TCH4BHsOHGX"
      },
      "source": [
        "Answer: <br>\n",
        "1. What is the average house price in different neighborhoods, and how does it vary over time?\n",
        "2. How does the size of the property (square footage) impact its price across various locations?\n",
        "3. Are homes located near schools, parks, and public transport priced higher compared to those farther away from such amenities?"
      ]
    },
    {
      "cell_type": "markdown",
      "metadata": {
        "id": "UCJuhGscOHGY"
      },
      "source": [
        "### Questions"
      ]
    },
    {
      "cell_type": "markdown",
      "metadata": {
        "id": "94NighUHOHGZ"
      },
      "source": [
        "Which of the following are operators, and which are values?\n",
        "\n",
        "*<br>\n",
        "'hello'<br>\n",
        "-88.8<br>\n",
        "-<br>\n",
        "/<br>\n",
        "+<br>\n",
        "5<br>\n",
        "\n",
        "#### Sample answer\n",
        "Operators: *, -, /, +<br>\n",
        "Values: 'hello', -88.8, 5"
      ]
    },
    {
      "cell_type": "markdown",
      "metadata": {
        "id": "s2PvGx30OHGa"
      },
      "source": [
        "1. What are the advantages of Python? (3 points)\n",
        "    "
      ]
    },
    {
      "cell_type": "markdown",
      "metadata": {
        "id": "Fd32PLn4OHGa"
      },
      "source": [
        "Answer: <br>\n",
        "1. Python's syntax is clean, simple which makes it easy to Learn and Use\n",
        "2. Interpreted Language:Python executes code line-by-line, making debugging easier\n",
        "3. Cross-Platform: Python runs on all major platforms (Windows, macOS, and Linux) Code written on one platform works on another without modification.\n",
        "4. Free and Open Source: Python is free to download, use, and modify, making it accessible to everyone.\n",
        "5. Strong Integration with Other Tools\n",
        "6. Python has a vast standard library and numerous third-party libraries for various domains"
      ]
    },
    {
      "cell_type": "markdown",
      "metadata": {
        "id": "NuB6c4_9OHGb"
      },
      "source": [
        "2. Which of the following is a variable, and which is a string? (3 points)\n",
        "\n",
        "spam<br>\n",
        "'spam'<br>"
      ]
    },
    {
      "cell_type": "markdown",
      "metadata": {
        "id": "w2tDbHhdOHGc"
      },
      "source": [
        "Answer: <br>\n",
        "spam is a variable\n",
        "\n",
        "'spam' is a string"
      ]
    },
    {
      "cell_type": "markdown",
      "metadata": {
        "id": "CU05dPRGOHGc"
      },
      "source": [
        "3. What is the data type of variable num? (3 points)<br>\n",
        "num = input()<br>"
      ]
    },
    {
      "cell_type": "markdown",
      "metadata": {
        "id": "_nMFTxVFOHGd"
      },
      "source": [
        "Answer: <br>\n",
        "string"
      ]
    },
    {
      "cell_type": "markdown",
      "metadata": {
        "id": "GbmqreSOOHGd"
      },
      "source": [
        "4. What is the value of userAge after running the following code? (3 points)<br>\n",
        "<br>\n",
        "userAge = 20<br>\n",
        "userAge + 1<br>\n"
      ]
    },
    {
      "cell_type": "markdown",
      "metadata": {
        "id": "pI26XtFpOHGd"
      },
      "source": [
        "Answer: <br>\n",
        "21"
      ]
    },
    {
      "cell_type": "markdown",
      "metadata": {
        "id": "U98_OHxoOHGe"
      },
      "source": [
        "5. Why does this expression cause an error? How can you fix it? (3 points)<br>\n",
        "<br>\n",
        "'I have eaten ' + 99 + ' burritos.'<br>\n"
      ]
    },
    {
      "cell_type": "markdown",
      "metadata": {
        "id": "5Uq5ku25OHGe"
      },
      "source": [
        "Answer: <br>\n",
        "the error is due to 99 which is an integer and we need to covert it to string to run this code successfully.\n",
        "\n",
        "'I have eaten ' + '99' + ' burritos.'"
      ]
    },
    {
      "cell_type": "code",
      "source": [
        "'I have eaten ' + '99' + ' burritos.'"
      ],
      "metadata": {
        "colab": {
          "base_uri": "https://localhost:8080/",
          "height": 35
        },
        "id": "iPwQUUlkPFXs",
        "outputId": "a82dda05-bba7-4201-f067-ad785b73e43f"
      },
      "execution_count": 2,
      "outputs": [
        {
          "output_type": "execute_result",
          "data": {
            "text/plain": [
              "'I have eaten 99 burritos.'"
            ],
            "application/vnd.google.colaboratory.intrinsic+json": {
              "type": "string"
            }
          },
          "metadata": {},
          "execution_count": 2
        }
      ]
    }
  ],
  "metadata": {
    "kernelspec": {
      "display_name": "Python 3",
      "language": "python",
      "name": "python3"
    },
    "language_info": {
      "codemirror_mode": {
        "name": "ipython",
        "version": 3
      },
      "file_extension": ".py",
      "mimetype": "text/x-python",
      "name": "python",
      "nbconvert_exporter": "python",
      "pygments_lexer": "ipython3",
      "version": "3.8.8"
    },
    "colab": {
      "provenance": []
    }
  },
  "nbformat": 4,
  "nbformat_minor": 0
}