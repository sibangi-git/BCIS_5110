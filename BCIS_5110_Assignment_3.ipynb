{
 "cells": [
  {
   "cell_type": "markdown",
   "id": "5caddfc0",
   "metadata": {
    "id": "5caddfc0"
   },
   "source": [
    "### BCIS 5110 - Assignment 3\n",
    "Write programs to answer the following questions. 10 points each."
   ]
  },
  {
   "cell_type": "markdown",
   "id": "560ecab7",
   "metadata": {
    "id": "560ecab7"
   },
   "source": [
    "1. Using conditionals, we can make our first program (asking name and age and returning welcome messages) into a guess-my-age game. Your program will:<br>\n",
    "    a. Ask the user to guess your age<br>\n",
    "    b. It will do the following based on the user answer:\n",
    "        if it is correct, print a congratulating message;\n",
    "        if it is larger than your age, print a message like \"Try lower\";\n",
    "        if it is smaller than your age, print a message like \"Try higher.\""
   ]
  },
  {
   "cell_type": "code",
   "execution_count": 1,
   "id": "52d2af80",
   "metadata": {
    "colab": {
     "base_uri": "https://localhost:8080/"
    },
    "id": "52d2af80",
    "outputId": "c62f4f24-903c-4067-96ce-af6a22443fde"
   },
   "outputs": [
    {
     "name": "stdout",
     "output_type": "stream",
     "text": [
      "Guess my age: 26\n",
      "Try higher.\n"
     ]
    }
   ],
   "source": [
    "age = int(input('Guess my age: '))\n",
    "\n",
    "if age == 28:\n",
    "    print('Congratulation!')\n",
    "elif age < 28:\n",
    "    print('Try higher.')\n",
    "else:\n",
    "    print('Try lower.')"
   ]
  },
  {
   "cell_type": "markdown",
   "id": "2f0e98e0",
   "metadata": {
    "id": "2f0e98e0"
   },
   "source": [
    "2. In analytics, sometimes we need to transform variables. For example, a variable \"Education\" is measured as the number of years of education received. In some cases, we want to measure education as category such as \"Graduate/Professional\", \"College\", \"Associate degree\", \"High School\", \"Below High school\" etc.\n",
    "Write a program to transform the number of years (take a number from the user) into categories. You may define the cut-off years (e.g., <13 --> \"Below High School\". Make your own rules as long as they are reasonable. You will not be graded on whether the numbers or categories are exactly the same as mine.).<br>\n",
    "Example: input - 17; output - \"College\"."
   ]
  },
  {
   "cell_type": "code",
   "execution_count": 2,
   "id": "23b55d5d",
   "metadata": {
    "colab": {
     "base_uri": "https://localhost:8080/"
    },
    "id": "23b55d5d",
    "outputId": "45a6ae9f-4dd3-4c8a-e0d4-140a7db0222c"
   },
   "outputs": [
    {
     "name": "stdout",
     "output_type": "stream",
     "text": [
      "Enter your education: 17\n",
      "College\n"
     ]
    }
   ],
   "source": [
    "education = int(input('Enter your education: '))\n",
    "\n",
    "if education < 13:\n",
    "    print('Below High School')\n",
    "elif education >= 13 and education < 17:\n",
    "    print('High School')\n",
    "elif education >= 17 and education < 21:\n",
    "    print('College')\n",
    "else:\n",
    "    print('Graduate/Professional')"
   ]
  },
  {
   "cell_type": "markdown",
   "id": "bd62ec51",
   "metadata": {
    "id": "bd62ec51"
   },
   "source": [
    "3. Write a program that sorts three given numbers from smallest to largest. <br>\n",
    "    a. Ask the user to input three numbers, one at a time, and save the numbers to a list.(Hint: you need to create an empty list first.) <br>\n",
    "    b. Your program refers to each number using index and do the comparisons. Use nested conditions, not loops or sorting functions. (How many comparisons do we need to decide the order of three numbers? For instance, first layer to compare theList[0] and theList[1], what to compare in the second layer? Is there a third layer?)<br>\n",
    "    Example: input - 3, 98, 73, one at a time<br>\n",
    "    output - [3, 73, 98]"
   ]
  },
  {
   "cell_type": "code",
   "execution_count": 5,
   "id": "18a21bda",
   "metadata": {
    "colab": {
     "base_uri": "https://localhost:8080/"
    },
    "id": "18a21bda",
    "outputId": "3daf7e9e-a71e-4a03-b20a-7a79b2b08f4e"
   },
   "outputs": [
    {
     "name": "stdout",
     "output_type": "stream",
     "text": [
      "Enter a number: 78\n",
      "Enter a number: 6\n",
      "Enter a number: 09\n",
      "[6, 9, 78]\n"
     ]
    }
   ],
   "source": [
    "my_list = []\n",
    "\n",
    "for i in range(3):\n",
    "    num = int(input('Enter a number: '))\n",
    "    my_list.append(num)\n",
    "\n",
    "for i in range(len(my_list)-1):\n",
    "  if my_list[i] > my_list[i+1]:\n",
    "    my_list[i], my_list[i+1] = my_list[i+1], my_list[i]\n",
    "\n",
    "print(my_list)"
   ]
  },
  {
   "cell_type": "code",
   "execution_count": null,
   "id": "GPy9Y63onjWw",
   "metadata": {
    "id": "GPy9Y63onjWw"
   },
   "outputs": [],
   "source": []
  }
 ],
 "metadata": {
  "colab": {
   "provenance": []
  },
  "kernelspec": {
   "display_name": "Python 3 (ipykernel)",
   "language": "python",
   "name": "python3"
  },
  "language_info": {
   "codemirror_mode": {
    "name": "ipython",
    "version": 3
   },
   "file_extension": ".py",
   "mimetype": "text/x-python",
   "name": "python",
   "nbconvert_exporter": "python",
   "pygments_lexer": "ipython3",
   "version": "3.12.3"
  }
 },
 "nbformat": 4,
 "nbformat_minor": 5
}
