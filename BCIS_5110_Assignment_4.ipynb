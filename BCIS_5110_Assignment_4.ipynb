{
  "cells": [
    {
      "cell_type": "markdown",
      "metadata": {
        "id": "tSILItShvDxS"
      },
      "source": [
        "## BCIS5110 - Assignment 4\n",
        "10 points for each question."
      ]
    },
    {
      "cell_type": "markdown",
      "metadata": {
        "id": "OpfMcdApvDxV"
      },
      "source": [
        "1. Write a program that:<br>\n",
        "1)\tDefines a list (anything of your choice)<br>\n",
        "2)\tAsks the user to input a guess<br>\n",
        "3)\tChecks whether the user input matches any item in your pre-defined list (hint: look for a list method that can do this in our lecture)<br>\n",
        "4)\tIf yes, prints confirmation message<br>\n",
        "5)\tIf not, asks the user to try again<br>\n",
        "6)  keeps asking until the user gets it right once<br>"
      ]
    },
    {
      "cell_type": "code",
      "execution_count": 6,
      "metadata": {
        "colab": {
          "base_uri": "https://localhost:8080/"
        },
        "id": "BHNxtKCtvDxW",
        "outputId": "367785c2-8dad-42a3-da12-2b9c8203cbaa"
      },
      "outputs": [
        {
          "output_type": "stream",
          "name": "stdout",
          "text": [
            "Please enter a guess: cat\n",
            "Incorrect. Please try again.\n",
            "Please enter a guess: dog\n",
            "Incorrect. Please try again.\n",
            "Please enter a guess: orange\n",
            "Correct!\n"
          ]
        }
      ],
      "source": [
        "my_list = [\"apple\", \"banana\", \"cherry\", \"date\", \"orange\"]\n",
        "\n",
        "while True:\n",
        "  guess = input(\"Please enter a guess: \")\n",
        "  if guess in my_list:\n",
        "    print(\"Correct!\")\n",
        "    break\n",
        "  else:\n",
        "    print(\"Incorrect. Please try again.\")"
      ]
    },
    {
      "cell_type": "markdown",
      "metadata": {
        "id": "RfEA-fMXvDxW"
      },
      "source": [
        "2.1 In data preparation, sometimes we need to replace missing values. At this point, we can view a column as a list, e.g. [1, 0, 0, 1, 'NA', 1, 0, 'NA']. 'NA' is the indicator of missing values. <br>\n",
        "Write a program to replace 'NA' with 1. So the output will be [1, 0, 0, 1, 1, 1, 0, 1]."
      ]
    },
    {
      "cell_type": "code",
      "execution_count": 8,
      "metadata": {
        "colab": {
          "base_uri": "https://localhost:8080/"
        },
        "id": "n4q6TS8EvDxX",
        "outputId": "7fd73819-e46d-4451-b1f4-7e97612ecbe9"
      },
      "outputs": [
        {
          "output_type": "stream",
          "name": "stdout",
          "text": [
            "[1, 0, 0, 1, 1, 1, 0, 1]\n"
          ]
        }
      ],
      "source": [
        "my_list = [1, 0, 0, 1, 'NA', 1, 0, 'NA']\n",
        "\n",
        "for i in range(len(my_list)):\n",
        "  if my_list[i] == 'NA':\n",
        "    my_list[i] = 1\n",
        "\n",
        "print(my_list)"
      ]
    },
    {
      "cell_type": "markdown",
      "metadata": {
        "id": "5DvABtHzvDxX"
      },
      "source": [
        "2.2 Sometimes we need to transform variables. For instance, we need to transform monetary values from other currencies to US dollars. For instance, a column of prices listed in Russian ruble [12000, 300000, 774838, 876767, 5532846, 734279] to be exchanged to US dollars. Write a list comprehension to do that.For instance, <br>\n",
        "input: [12000, 300000, 774838, 876767, 5532846, 734279]<br>\n",
        "output: the list of price in US dollars"
      ]
    },
    {
      "cell_type": "code",
      "execution_count": 13,
      "metadata": {
        "colab": {
          "base_uri": "https://localhost:8080/"
        },
        "id": "uYOlDq_4vDxY",
        "outputId": "9a1180c7-aefc-4489-f9c1-50ec5fa29344"
      },
      "outputs": [
        {
          "output_type": "execute_result",
          "data": {
            "text/plain": [
              "[118.80000000000001,\n",
              " 2970.0000000000005,\n",
              " 7670.896200000001,\n",
              " 8679.9933,\n",
              " 54775.17540000001,\n",
              " 7269.3621]"
            ]
          },
          "metadata": {},
          "execution_count": 13
        }
      ],
      "source": [
        "exchange_rate = 0.0099\n",
        "\n",
        "ruble_prices = [12000, 300000, 774838, 876767, 5532846, 734279]\n",
        "\n",
        "usd_prices = [price * exchange_rate for price in ruble_prices]\n",
        "\n",
        "usd_prices"
      ]
    },
    {
      "cell_type": "markdown",
      "metadata": {
        "id": "xu2vFfyYvDxY"
      },
      "source": [
        "3. We analyze customer data to segment them based on their spending habits over four quarters of the year. Customers are categorized as High-Spenders, Medium-Spenders, or Low-Spenders based on their total yearly spending\n",
        "\n",
        "High-Spenders: Total yearly spending > 2000 <br>\n",
        "Medium-Spenders: Total yearly spending between 1000 and 2000 <br>\n",
        "Low-Spenders: Total yearly spending < 1000<br>\n",
        "Given a list of customers' spending in each quarter, write a program that:<br>\n",
        "\n",
        "Calculates the total yearly spending for each customer.\n",
        "Assigns each customer to the correct segment based on their total yearly spending.\n",
        "Prints the customer name and their corresponding segment.\n",
        "\n",
        "#### You may use AI to solve this problem. Please report the prompts you have used after your code."
      ]
    },
    {
      "cell_type": "code",
      "execution_count": 10,
      "metadata": {
        "id": "VvOEvFuWvDxZ"
      },
      "outputs": [],
      "source": [
        "# Customer data is defined in list of dictionaries.\n",
        "customers = [\n",
        "    {'name': 'Alice', 'Q1': 500, 'Q2': 600, 'Q3': 400, 'Q4': 700},\n",
        "    {'name': 'Bob', 'Q1': 200, 'Q2': 300, 'Q3': 250, 'Q4': 150},\n",
        "    {'name': 'Charlie', 'Q1': 800, 'Q2': 700, 'Q3': 900, 'Q4': 850}\n",
        "]"
      ]
    },
    {
      "cell_type": "code",
      "execution_count": null,
      "metadata": {
        "id": "4r9aoEQhvDxa"
      },
      "outputs": [],
      "source": [
        "# Expected outcome. The program prints:\n",
        "# Alice is a Medium-Spender\n",
        "# Bob is a Low-Spender\n",
        "# Charlie is a High-Spender"
      ]
    },
    {
      "cell_type": "code",
      "execution_count": 11,
      "metadata": {
        "colab": {
          "base_uri": "https://localhost:8080/"
        },
        "id": "mArkz6CBvDxa",
        "outputId": "cb3ec055-3938-4d65-fd58-0f3529b1567e"
      },
      "outputs": [
        {
          "output_type": "stream",
          "name": "stdout",
          "text": [
            "Alice is a High-Spender\n",
            "Bob is a Low-Spender\n",
            "Charlie is a High-Spender\n"
          ]
        }
      ],
      "source": [
        "# Your program\n",
        "\n",
        "for customer in customers:\n",
        "    total_spending = customer['Q1'] + customer['Q2'] + customer['Q3'] + customer['Q4']\n",
        "    if total_spending > 2000:\n",
        "        segment = 'High-Spender'\n",
        "    elif total_spending >= 1000:\n",
        "        segment = 'Medium-Spender'\n",
        "    else:\n",
        "        segment = 'Low-Spender'\n",
        "    print(f\"{customer['name']} is a {segment}\")"
      ]
    },
    {
      "cell_type": "code",
      "execution_count": null,
      "metadata": {
        "id": "5pnnctn-vDxa"
      },
      "outputs": [],
      "source": [
        "# The prompts you have used\n",
        "\n",
        "# Write a Python program that categorizes customers based on their yearly spending.\n",
        "# Given a list of customer spending in four quarters,\n",
        "# calculate the total yearly spending and assign them into High-Spender (above 2000), Medium-Spender (1000-2000), or Low-Spender (below 1000).\n",
        "# Print the customer name along with their segment."
      ]
    }
  ],
  "metadata": {
    "kernelspec": {
      "display_name": "Python 3 (ipykernel)",
      "language": "python",
      "name": "python3"
    },
    "language_info": {
      "codemirror_mode": {
        "name": "ipython",
        "version": 3
      },
      "file_extension": ".py",
      "mimetype": "text/x-python",
      "name": "python",
      "nbconvert_exporter": "python",
      "pygments_lexer": "ipython3",
      "version": "3.12.3"
    },
    "colab": {
      "provenance": []
    }
  },
  "nbformat": 4,
  "nbformat_minor": 0
}